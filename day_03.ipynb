{
 "cells": [
  {
   "cell_type": "markdown",
   "metadata": {},
   "source": [
    "# Advent of Code Day 3\n",
    "https://adventofcode.com/2021/day/3"
   ]
  },
  {
   "cell_type": "markdown",
   "metadata": {},
   "source": [
    "## Part 1 - Compute Power Consumption"
   ]
  },
  {
   "cell_type": "code",
   "execution_count": 1,
   "metadata": {},
   "outputs": [],
   "source": [
    "import numpy as np\n",
    "import os\n",
    "import pandas as pd"
   ]
  },
  {
   "cell_type": "code",
   "execution_count": 2,
   "metadata": {},
   "outputs": [],
   "source": [
    "def gamma_binary(diagnostics: pd.DataFrame) -> str:\n",
    "    \"\"\"\n",
    "    gamma is the least common values in each position, i.e. mode.\n",
    "    \"\"\"\n",
    "    return \"\".join(diagnostics.mode().loc[0].to_list())\n",
    "\n",
    "def epsilon_binary(diagnostics: pd.DataFrame) -> str:\n",
    "    \"\"\"\n",
    "    epsilon is the least common values in each position, i.e. inversion of gamma.\n",
    "    \"\"\"\n",
    "    return ''.join('1' if x == '0' else '0' for x in gamma_binary(diagnostics))\n",
    "\n",
    "def power_consumption(diagnostics: pd.DataFrame) -> int:\n",
    "    \"\"\"\n",
    "    computes power consumption by multiplying gamma and epsilon and converting to base 10.\n",
    "    \"\"\"\n",
    "    return int(gamma_binary(diagnostics), base=2) * int(epsilon_binary(diagnostics), base=2)"
   ]
  },
  {
   "cell_type": "code",
   "execution_count": 3,
   "metadata": {},
   "outputs": [],
   "source": [
    "# Unit testing our gamma and epsilon functions with the test data provided \n",
    "# the example.\n",
    "bits_test = pd.DataFrame(\n",
    "    [\n",
    "        '00100', '11110', '10110', '10111', '10101', \n",
    "        '01111', '00111', '11100', '10000', '11001', \n",
    "        '00010', '01010'\n",
    "    ], \n",
    "    columns=['Diag']\n",
    ").Diag.str.split(\"\",expand=True)\\\n",
    "    .replace(\"\", np.nan, inplace=False)\\\n",
    "    .dropna(axis=1, how='all', inplace=False)\\\n",
    "    .dropna(axis=0, how='all', inplace=False)\n",
    "\n",
    "assert gamma_binary(bits_test) == '10110'\n",
    "assert epsilon_binary(bits_test) == '01001'"
   ]
  },
  {
   "cell_type": "code",
   "execution_count": 4,
   "metadata": {},
   "outputs": [
    {
     "data": {
      "text/html": [
       "<div>\n",
       "<style scoped>\n",
       "    .dataframe tbody tr th:only-of-type {\n",
       "        vertical-align: middle;\n",
       "    }\n",
       "\n",
       "    .dataframe tbody tr th {\n",
       "        vertical-align: top;\n",
       "    }\n",
       "\n",
       "    .dataframe thead th {\n",
       "        text-align: right;\n",
       "    }\n",
       "</style>\n",
       "<table border=\"1\" class=\"dataframe\">\n",
       "  <thead>\n",
       "    <tr style=\"text-align: right;\">\n",
       "      <th></th>\n",
       "      <th>1</th>\n",
       "      <th>2</th>\n",
       "      <th>3</th>\n",
       "      <th>4</th>\n",
       "      <th>5</th>\n",
       "      <th>6</th>\n",
       "      <th>7</th>\n",
       "      <th>8</th>\n",
       "      <th>9</th>\n",
       "      <th>10</th>\n",
       "      <th>11</th>\n",
       "      <th>12</th>\n",
       "    </tr>\n",
       "  </thead>\n",
       "  <tbody>\n",
       "    <tr>\n",
       "      <th>0</th>\n",
       "      <td>0</td>\n",
       "      <td>0</td>\n",
       "      <td>1</td>\n",
       "      <td>0</td>\n",
       "      <td>0</td>\n",
       "      <td>1</td>\n",
       "      <td>1</td>\n",
       "      <td>0</td>\n",
       "      <td>0</td>\n",
       "      <td>1</td>\n",
       "      <td>0</td>\n",
       "      <td>1</td>\n",
       "    </tr>\n",
       "    <tr>\n",
       "      <th>1</th>\n",
       "      <td>0</td>\n",
       "      <td>1</td>\n",
       "      <td>0</td>\n",
       "      <td>1</td>\n",
       "      <td>0</td>\n",
       "      <td>0</td>\n",
       "      <td>0</td>\n",
       "      <td>1</td>\n",
       "      <td>1</td>\n",
       "      <td>1</td>\n",
       "      <td>0</td>\n",
       "      <td>0</td>\n",
       "    </tr>\n",
       "    <tr>\n",
       "      <th>2</th>\n",
       "      <td>1</td>\n",
       "      <td>0</td>\n",
       "      <td>0</td>\n",
       "      <td>0</td>\n",
       "      <td>0</td>\n",
       "      <td>0</td>\n",
       "      <td>1</td>\n",
       "      <td>1</td>\n",
       "      <td>0</td>\n",
       "      <td>0</td>\n",
       "      <td>0</td>\n",
       "      <td>1</td>\n",
       "    </tr>\n",
       "    <tr>\n",
       "      <th>3</th>\n",
       "      <td>0</td>\n",
       "      <td>0</td>\n",
       "      <td>1</td>\n",
       "      <td>1</td>\n",
       "      <td>1</td>\n",
       "      <td>1</td>\n",
       "      <td>1</td>\n",
       "      <td>1</td>\n",
       "      <td>0</td>\n",
       "      <td>1</td>\n",
       "      <td>0</td>\n",
       "      <td>1</td>\n",
       "    </tr>\n",
       "    <tr>\n",
       "      <th>4</th>\n",
       "      <td>1</td>\n",
       "      <td>0</td>\n",
       "      <td>0</td>\n",
       "      <td>0</td>\n",
       "      <td>1</td>\n",
       "      <td>0</td>\n",
       "      <td>1</td>\n",
       "      <td>1</td>\n",
       "      <td>0</td>\n",
       "      <td>1</td>\n",
       "      <td>0</td>\n",
       "      <td>1</td>\n",
       "    </tr>\n",
       "  </tbody>\n",
       "</table>\n",
       "</div>"
      ],
      "text/plain": [
       "  1  2  3  4  5  6  7  8  9  10 11 12\n",
       "0  0  0  1  0  0  1  1  0  0  1  0  1\n",
       "1  0  1  0  1  0  0  0  1  1  1  0  0\n",
       "2  1  0  0  0  0  0  1  1  0  0  0  1\n",
       "3  0  0  1  1  1  1  1  1  0  1  0  1\n",
       "4  1  0  0  0  1  0  1  1  0  1  0  1"
      ]
     },
     "execution_count": 4,
     "metadata": {},
     "output_type": "execute_result"
    }
   ],
   "source": [
    "# Read our input.\n",
    "data_directory: str  = 'data/day_3'\n",
    "input_file = os.path.join(data_directory, 'input.txt')\n",
    "df = pd.read_csv(input_file, header=None, names=['Diag'], dtype={'Diag':str})\n",
    "\n",
    "# Convert to dataframe of bits.\n",
    "bits = df.Diag.str.split(\"\",expand=True)\\\n",
    "    .replace(\"\", np.nan, inplace=False)\\\n",
    "    .dropna(axis=1, how='all', inplace=False)\\\n",
    "    .dropna(axis=0, how='all', inplace=False)\n",
    "bits.head()"
   ]
  },
  {
   "cell_type": "code",
   "execution_count": 5,
   "metadata": {},
   "outputs": [
    {
     "name": "stdout",
     "output_type": "stream",
     "text": [
      "3901196\n"
     ]
    }
   ],
   "source": [
    "# print(gamma_binary(bits))\n",
    "# print(epsilon_binary(bits))\n",
    "\n",
    "# Answer the question\n",
    "print(power_consumption(bits))\n"
   ]
  },
  {
   "cell_type": "markdown",
   "metadata": {},
   "source": [
    "## Part 2: Verifying the life support rating.\n",
    "The life support rating, which can be determined by multiplying the oxygen generator rating by the CO2 scrubber rating."
   ]
  },
  {
   "cell_type": "markdown",
   "metadata": {},
   "source": [
    "### Oxygen generator rating\n",
    "\n",
    "1. Before searching for either rating value, start with the full list of binary numbers from your diagnostic report and **consider just the first bit** of those numbers.\n",
    "2. Keep only numbers selected by the bit criteria for the type of rating value for which you are searching. To find oxygen generator rating, determine the most common value (0 or 1) in the current bit position, and keep only numbers with that bit in that position. If 0 and 1 are equally common, keep values with a 1 in the position being considered.\n",
    "3. If you only have one number left, stop; this is the rating value for which you are searching.\n",
    "4. Otherwise, repeat the process, considering the next bit to the right.\n"
   ]
  },
  {
   "cell_type": "code",
   "execution_count": 6,
   "metadata": {},
   "outputs": [],
   "source": [
    "def oxygen_generator_rating_binary(diagnostics: pd.DataFrame) -> str:\n",
    "    df = diagnostics.copy()\n",
    "    \n",
    "    for col in df.columns:\n",
    "        s: pd.Series = df[col].value_counts()\n",
    "        (mc, mc_cnt) = s.index[0], s.loc[s.index[0]]\n",
    "        (lc, lc_cnt) = s.index[-1], s.loc[s.index[-1]]\n",
    "\n",
    "        if mc_cnt == lc_cnt or mc == \"1\":\n",
    "            df = df.drop(df[df[col].str.match(\"0\")].index)\n",
    "        else:\n",
    "            df = df.drop(df[df[col].str.match(\"1\")].index)\n",
    "\n",
    "        if len(df.index) == 1:\n",
    "            break\n",
    "\n",
    "    return \"\".join(df.loc[df.index[0]].to_list())\n",
    "\n",
    "def oxygen_generator_rating(diagnostics: pd.DataFrame) -> int:\n",
    "    \"\"\"\n",
    "    Returns oxygen_generator_rating in decimal.\n",
    "    \"\"\"\n",
    "    return int(oxygen_generator_rating_binary(diagnostics), base=2)"
   ]
  },
  {
   "cell_type": "code",
   "execution_count": 7,
   "metadata": {},
   "outputs": [],
   "source": [
    "assert oxygen_generator_rating_binary(bits_test) == \"10111\"\n",
    "assert oxygen_generator_rating(bits_test) == 23"
   ]
  },
  {
   "cell_type": "markdown",
   "metadata": {},
   "source": [
    "### C02 Scrubber rating\n",
    "\n",
    "1. Before searching for either rating value, start with the full list of binary numbers from your diagnostic report and **consider just the first bit** of those numbers.\n",
    "2. Keep only numbers selected by the bit criteria for the type of rating value for which you are searching. To find CO2 scrubber rating, determine the least common value (0 or 1) in the current bit position, and keep only numbers with that bit in that position. If 0 and 1 are equally common, keep values with a 0 in the position being considered.\n",
    "3. If you only have one number left, stop; this is the rating value for which you are searching.\n",
    "4. Otherwise, repeat the process, considering the next bit to the right."
   ]
  },
  {
   "cell_type": "code",
   "execution_count": 8,
   "metadata": {},
   "outputs": [],
   "source": [
    "def c02_scrubber_rating_binary(diagnostics: pd.DataFrame) -> str:\n",
    "    \"\"\"\n",
    "    Returns c02_scrubber_rating in binary.\n",
    "    \"\"\"\n",
    "    df = diagnostics.copy()\n",
    "    \n",
    "    for col in df.columns:\n",
    "        s: pd.Series = df[col].value_counts()\n",
    "        (mc, mc_cnt) = s.index[0], s.loc[s.index[0]]\n",
    "        (lc, lc_cnt) = s.index[-1], s.loc[s.index[-1]]\n",
    "\n",
    "        if mc_cnt == lc_cnt or lc == \"0\":\n",
    "            df = df.drop(df[df[col].str.match(\"1\")].index)\n",
    "        else:\n",
    "            df = df.drop(df[df[col].str.match(\"0\")].index)\n",
    "\n",
    "        if len(df.index) == 1:\n",
    "            break\n",
    "\n",
    "    return \"\".join(df.loc[df.index[0]].to_list())\n",
    "\n",
    "def c02_scrubber_rating(diagnostics: pd.DataFrame) -> int:\n",
    "    \"\"\"\n",
    "    Returns c02_scrubber_rating in decimal.\n",
    "    \"\"\"\n",
    "    return int(c02_scrubber_rating_binary(diagnostics), base=2)"
   ]
  },
  {
   "cell_type": "code",
   "execution_count": 9,
   "metadata": {},
   "outputs": [],
   "source": [
    "assert c02_scrubber_rating_binary(bits_test) == \"01010\"\n",
    "assert c02_scrubber_rating(bits_test) == 10"
   ]
  },
  {
   "cell_type": "markdown",
   "metadata": {},
   "source": [
    "### Life Support rating\n",
    "\n",
    "Finally, to find the life support rating, multiply the oxygen generator rating (23) by the CO2 scrubber rating (10) to get 230."
   ]
  },
  {
   "cell_type": "code",
   "execution_count": 10,
   "metadata": {},
   "outputs": [],
   "source": [
    "def life_support_rating(diagnostics: pd.DataFrame) -> int:\n",
    "    \"\"\"\n",
    "    Compute life Support Rating.\n",
    "    \"\"\"\n",
    "    return oxygen_generator_rating(diagnostics) * c02_scrubber_rating(diagnostics)\n",
    "\n",
    "assert life_support_rating(bits_test) == 230"
   ]
  },
  {
   "cell_type": "markdown",
   "metadata": {},
   "source": [
    "### Finding part 2's answer."
   ]
  },
  {
   "cell_type": "code",
   "execution_count": 11,
   "metadata": {},
   "outputs": [
    {
     "data": {
      "text/plain": [
       "4412188"
      ]
     },
     "execution_count": 11,
     "metadata": {},
     "output_type": "execute_result"
    }
   ],
   "source": [
    "# Read our input.\n",
    "data_directory: str  = 'data/day_3'\n",
    "input_file = os.path.join(data_directory, 'input.txt')\n",
    "df = pd.read_csv(input_file, header=None, names=['Diag'], dtype={'Diag':str})\n",
    "\n",
    "# Convert to dataframe of bits.\n",
    "bits = df.Diag.str.split(\"\",expand=True)\\\n",
    "    .replace(\"\", np.nan, inplace=False)\\\n",
    "    .dropna(axis=1, how='all', inplace=False)\\\n",
    "    .dropna(axis=0, how='all', inplace=False)\n",
    "\n",
    "life_support_rating(bits)"
   ]
  },
  {
   "cell_type": "code",
   "execution_count": null,
   "metadata": {},
   "outputs": [],
   "source": []
  }
 ],
 "metadata": {
  "interpreter": {
   "hash": "ae981610c82baf8dde312b9cabe619eb6b77f5b8e197b22f2a09a689406db354"
  },
  "kernelspec": {
   "display_name": "Python 3.10.0 64-bit ('venv': venv)",
   "language": "python",
   "name": "python3"
  },
  "language_info": {
   "codemirror_mode": {
    "name": "ipython",
    "version": 3
   },
   "file_extension": ".py",
   "mimetype": "text/x-python",
   "name": "python",
   "nbconvert_exporter": "python",
   "pygments_lexer": "ipython3",
   "version": "3.10.0"
  },
  "orig_nbformat": 4
 },
 "nbformat": 4,
 "nbformat_minor": 2
}
