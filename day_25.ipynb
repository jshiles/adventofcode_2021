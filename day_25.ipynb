{
 "cells": [
  {
   "cell_type": "markdown",
   "metadata": {},
   "source": [
    "# Day 25: Sea Cucumber\n",
    "https://adventofcode.com/2021/day/25"
   ]
  },
  {
   "cell_type": "markdown",
   "metadata": {},
   "source": [
    "# Part 1\n",
    "Find somewhere safe to land your submarine. What is the first step on which no sea cucumbers move?"
   ]
  },
  {
   "cell_type": "code",
   "execution_count": 1,
   "metadata": {},
   "outputs": [],
   "source": [
    "from os import path\n",
    "from advent_of_code import utils"
   ]
  },
  {
   "cell_type": "code",
   "execution_count": 2,
   "metadata": {},
   "outputs": [],
   "source": [
    "class SeaFloor:\n",
    "    bed: list[str]\n",
    "\n",
    "    def __init__(self, input_file: str):\n",
    "        self.bed = []\n",
    "        with open(input_file) as f:\n",
    "            for line in f:\n",
    "                if line.rstrip():\n",
    "                    self.bed.append(line.rstrip())\n",
    "\n",
    "    def move_east_heard(self) -> bool:\n",
    "        \"\"\"\n",
    "        Move sea cucumbers rightwards, handling the wrap condition.\n",
    "        Returns True if >= 1 movement occurred, False if no movement.\n",
    "        \"\"\"\n",
    "\n",
    "        observed_movement: bool = False\n",
    "        for ridx in range(len(self.bed)):\n",
    "            row_orig = self.bed[ridx][:]\n",
    "\n",
    "            wrap = (\n",
    "                self.bed[ridx][0] == \".\"\n",
    "                and self.bed[ridx][len(self.bed[ridx]) - 1] == \">\"\n",
    "            )\n",
    "            self.bed[ridx] = self.bed[ridx].replace(\">.\", \".>\")\n",
    "            if wrap:\n",
    "                self.bed[ridx] = \">\" + self.bed[ridx][1:-1] + \".\"\n",
    "\n",
    "            # if the original row is not the same as it is here, then movement.\n",
    "            observed_movement = observed_movement or row_orig != self.bed[ridx]\n",
    "\n",
    "        return observed_movement\n",
    "\n",
    "    def move_south_heard(self) -> bool:\n",
    "        \"\"\"\n",
    "        Move sea cucumbers downwards, handling the wrap condition.\n",
    "        Returns True if >= 1 movement occurred, False if no movement.\n",
    "        \"\"\"\n",
    "\n",
    "        def _transpose(bed: list[str]) -> list[str]:\n",
    "            \"\"\"Simple transpose function for the sea bed\"\"\"\n",
    "            return [\"\".join(row) for row in list(map(list, zip(*bed)))]\n",
    "\n",
    "        # Transpose our sea bed.\n",
    "        bed_T = _transpose(self.bed)\n",
    "\n",
    "        # proceed with same logic as move east heard\n",
    "        observed_movement: bool = False\n",
    "        for ridx in range(len(bed_T)):\n",
    "            row_orig = bed_T[ridx][:]\n",
    "\n",
    "            wrap = bed_T[ridx][0] == \".\" and bed_T[ridx][len(bed_T[ridx]) - 1] == \"v\"\n",
    "            bed_T[ridx] = bed_T[ridx].replace(\"v.\", \".v\")\n",
    "            if wrap:\n",
    "                bed_T[ridx] = \"v\" + bed_T[ridx][1:-1] + \".\"\n",
    "\n",
    "            # if the original row is not the same as it is here, then movement.\n",
    "            observed_movement = observed_movement or row_orig != bed_T[ridx]\n",
    "\n",
    "        # Transpose our sea bed back.\n",
    "        self.bed = _transpose(bed_T)\n",
    "        return observed_movement\n",
    "\n",
    "    def __repr__(self) -> str:\n",
    "        board: str = \"\"\n",
    "        for _, row in enumerate(self.bed):\n",
    "            board = board + row + \"\\n\"\n",
    "        return board\n"
   ]
  },
  {
   "cell_type": "code",
   "execution_count": 3,
   "metadata": {},
   "outputs": [
    {
     "name": "stdout",
     "output_type": "stream",
     "text": [
      "Initial State (test input)\n",
      "v...>>.vv>\n",
      ".vv>>.vv..\n",
      ">>.>v>...v\n",
      ">>v>>.>.v.\n",
      "v>v.vv.v..\n",
      ">.>>..v...\n",
      ".vv..>.>v.\n",
      "v.v..>>v.v\n",
      "....v..v.>\n",
      "\n",
      "-----\n",
      "Completed in 58\n"
     ]
    },
    {
     "data": {
      "text/plain": [
       "..>>v>vv..\n",
       "..v.>>vv..\n",
       "..>>v>>vv.\n",
       "..>>>>>vv.\n",
       "v......>vv\n",
       "v>v....>>v\n",
       "vvv.....>>\n",
       ">vv......>\n",
       ".>v.vv.v.."
      ]
     },
     "execution_count": 3,
     "metadata": {},
     "output_type": "execute_result"
    }
   ],
   "source": [
    "# Run the test case on page.\n",
    "floor = SeaFloor(utils.test_input_location(day=25))\n",
    "moves = 0\n",
    "\n",
    "print(\"Initial State (test input)\")\n",
    "print(floor)\n",
    "print('-----')\n",
    "\n",
    "while True:\n",
    "    movement_right: bool = floor.move_east_heard()\n",
    "    movement_down: bool = floor.move_south_heard()\n",
    "    moves += 1\n",
    "\n",
    "    if not movement_right and not movement_down:\n",
    "        break\n",
    "\n",
    "    if path.exists(f'data/day_25/test_step_{moves}.txt'):\n",
    "        assert str(floor) == str(SeaFloor(f'data/day_25/test_step_{moves}.txt'))\n",
    "\n",
    "\n",
    "assert moves == 58\n",
    "print(f\"Completed in {moves}\")\n",
    "floor"
   ]
  },
  {
   "cell_type": "code",
   "execution_count": 4,
   "metadata": {},
   "outputs": [
    {
     "name": "stdout",
     "output_type": "stream",
     "text": [
      "Completed in 507\n"
     ]
    }
   ],
   "source": [
    "# run the \"production\" case.\n",
    "\n",
    "floor = SeaFloor(utils.input_location(day=25))\n",
    "moves = 0\n",
    "while True:\n",
    "    movement_right: bool = floor.move_east_heard()\n",
    "    movement_down: bool = floor.move_south_heard()\n",
    "    moves += 1\n",
    "    if not movement_right and not movement_down:\n",
    "        break\n",
    "print(f\"Completed in {moves}\")\n"
   ]
  },
  {
   "cell_type": "code",
   "execution_count": null,
   "metadata": {},
   "outputs": [],
   "source": []
  }
 ],
 "metadata": {
  "interpreter": {
   "hash": "ae981610c82baf8dde312b9cabe619eb6b77f5b8e197b22f2a09a689406db354"
  },
  "kernelspec": {
   "display_name": "Python 3.10.0 64-bit ('venv': venv)",
   "language": "python",
   "name": "python3"
  },
  "language_info": {
   "codemirror_mode": {
    "name": "ipython",
    "version": 3
   },
   "file_extension": ".py",
   "mimetype": "text/x-python",
   "name": "python",
   "nbconvert_exporter": "python",
   "pygments_lexer": "ipython3",
   "version": "3.10.0"
  },
  "orig_nbformat": 4
 },
 "nbformat": 4,
 "nbformat_minor": 2
}
