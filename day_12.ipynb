{
 "cells": [
  {
   "cell_type": "markdown",
   "metadata": {},
   "source": [
    "# Day 12: Passage Pathing\n",
    "https://adventofcode.com/2021/day/12"
   ]
  },
  {
   "cell_type": "markdown",
   "metadata": {},
   "source": [
    "### Part 1\n",
    "Find all paths that only go through small caves, i.e., lower case node names, once."
   ]
  },
  {
   "cell_type": "code",
   "execution_count": 1,
   "metadata": {},
   "outputs": [],
   "source": [
    "import os\n",
    "import networkx as nx \n",
    "from collections import Counter"
   ]
  },
  {
   "cell_type": "code",
   "execution_count": 2,
   "metadata": {},
   "outputs": [],
   "source": [
    "# input data.\n",
    "def test_input_location(\n",
    "    file_loc: str = 'test_input.txt', \n",
    "    data_directory: str  = 'data/day_12'\n",
    ") -> str:\n",
    "    return os.path.join(data_directory, file_loc)\n",
    "\n",
    "def test_input_location_slightly(\n",
    "    file_loc: str = 'test_slightly_longer.txt', \n",
    "    data_directory: str  = 'data/day_12'\n",
    ") -> str:\n",
    "    return os.path.join(data_directory, file_loc)\n",
    "\n",
    "def test_input_location_even(\n",
    "    file_loc: str = 'test_even_longer.txt', \n",
    "    data_directory: str  = 'data/day_12'\n",
    ") -> str:\n",
    "    return os.path.join(data_directory, file_loc)\n",
    "\n",
    "def input_location(\n",
    "    file_loc: str = 'input.txt', \n",
    "    data_directory: str  = 'data/day_12'\n",
    ") -> str:\n",
    "    return os.path.join(data_directory, file_loc)\n",
    "\n",
    "def create_graph(input_file:str):\n",
    "    g = nx.Graph()\n",
    "    if os.path.exists(input_file):\n",
    "        with open(input_file) as f:    \n",
    "            for row, line in enumerate(f):\n",
    "                if line.rstrip():\n",
    "                    caves = sorted(line.strip().split('-'))\n",
    "                    g.add_edge(caves[0], caves[1])\n",
    "    return g\n"
   ]
  },
  {
   "cell_type": "code",
   "execution_count": 3,
   "metadata": {},
   "outputs": [],
   "source": [
    "def drunken_walk(g:nx.Graph, node:str, prior_nodes: list[str]): \n",
    "    \"\"\"\n",
    "    Recursive walk through the network (<nx.Graph>) that allows us to visit\n",
    "    nodes with lower case only once, and the rest infinite times.\n",
    "    Returns,\n",
    "        List of List[str] for all possible paths.\n",
    "    \"\"\"\n",
    "    possible_steps = [\n",
    "        n \n",
    "        for n in g.neighbors(node) \n",
    "        if n.isupper() or n not in prior_nodes\n",
    "    ]\n",
    "\n",
    "    new_prior_nodes = prior_nodes + [node]\n",
    "    ending_chains:list[list[str]] = []\n",
    "\n",
    "    for step in possible_steps:\n",
    "        if step == 'end':\n",
    "            ending_chains.append([node, step])\n",
    "        else:\n",
    "            possible_chains = drunken_walk(g, step, new_prior_nodes)\n",
    "            for chain in possible_chains:\n",
    "                ending_chains.append([node] + chain)\n",
    "    \n",
    "    return ending_chains"
   ]
  },
  {
   "cell_type": "code",
   "execution_count": 4,
   "metadata": {},
   "outputs": [
    {
     "data": {
      "text/plain": [
       "[['start', 'A', 'b', 'A', 'c', 'A', 'end'],\n",
       " ['start', 'A', 'b', 'A', 'end'],\n",
       " ['start', 'A', 'b', 'end'],\n",
       " ['start', 'A', 'c', 'A', 'b', 'A', 'end'],\n",
       " ['start', 'A', 'c', 'A', 'b', 'end'],\n",
       " ['start', 'A', 'c', 'A', 'end'],\n",
       " ['start', 'A', 'end'],\n",
       " ['start', 'b', 'A', 'c', 'A', 'end'],\n",
       " ['start', 'b', 'A', 'end'],\n",
       " ['start', 'b', 'end']]"
      ]
     },
     "execution_count": 4,
     "metadata": {},
     "output_type": "execute_result"
    }
   ],
   "source": [
    "g = create_graph(test_input_location())\n",
    "paths = drunken_walk(g, 'start', [])\n",
    "assert len(paths) == 10\n",
    "sorted(paths)"
   ]
  },
  {
   "cell_type": "code",
   "execution_count": 5,
   "metadata": {},
   "outputs": [
    {
     "data": {
      "text/plain": [
       "3761"
      ]
     },
     "execution_count": 5,
     "metadata": {},
     "output_type": "execute_result"
    }
   ],
   "source": [
    "g = create_graph(input_location())\n",
    "paths = drunken_walk(g, 'start', [])\n",
    "len(paths)"
   ]
  },
  {
   "cell_type": "markdown",
   "metadata": {},
   "source": [
    "### Part 2"
   ]
  },
  {
   "cell_type": "code",
   "execution_count": 6,
   "metadata": {},
   "outputs": [],
   "source": [
    "def visited_a_small_cave_2x_already(c: Counter) -> bool:\n",
    "    \"\"\"\n",
    "    Given a counter, we determine if we have already visited a small cave more than once.\n",
    "    \"\"\"\n",
    "    return bool(len([k for k,v in c.items() if k.islower() and v > 1]))\n",
    "\n",
    "def drunken_walk_part2(g:nx.Graph, node:str, prior_nodes: Counter): \n",
    "    \"\"\"\n",
    "    Recursive walk through the network (<nx.Graph>) that allows us to visit\n",
    "    1 lower case 2x (except start) the rest of lower case nodes only once, and the \n",
    "    rest infinite times.\n",
    "    Returns,\n",
    "        List of List[str] for all possible paths.\n",
    "    \"\"\"\n",
    "\n",
    "    # Have we visited a small cave already?\n",
    "    small_cave_2x =  visited_a_small_cave_2x_already(prior_nodes + Counter([node]))\n",
    "\n",
    "    # What are the possible next steps we can take.\n",
    "    possible_steps = [\n",
    "        n \n",
    "        for n in g.neighbors(node)\n",
    "        if (\n",
    "            n != 'start'\n",
    "            and (\n",
    "                n.isupper() \n",
    "                or not small_cave_2x\n",
    "                or (small_cave_2x and n not in prior_nodes.elements())\n",
    "            )\n",
    "        )\n",
    "    ]\n",
    "\n",
    "    new_prior_nodes: Counter = prior_nodes + Counter([node])\n",
    "    ending_chains:list[list[str]] = []\n",
    "\n",
    "    for step in possible_steps:\n",
    "        if step == 'end':\n",
    "            ending_chains.append([node, step])\n",
    "        else:\n",
    "            possible_chains = drunken_walk_part2(g, step, new_prior_nodes)\n",
    "            for chain in possible_chains:\n",
    "                ending_chains.append([node] + chain)\n",
    "    \n",
    "    return ending_chains"
   ]
  },
  {
   "cell_type": "code",
   "execution_count": 7,
   "metadata": {},
   "outputs": [],
   "source": [
    "assert visited_a_small_cave_2x_already(Counter(['start', 'A', 'c', 'c', 'A', 'b', 'end'])) == True\n",
    "assert visited_a_small_cave_2x_already(Counter(['start', 'A', 'c', 'A', 'b', 'end'])) == False"
   ]
  },
  {
   "cell_type": "code",
   "execution_count": 8,
   "metadata": {},
   "outputs": [
    {
     "data": {
      "text/plain": [
       "[['start', 'A', 'b', 'A', 'b', 'A', 'c', 'A', 'end'],\n",
       " ['start', 'A', 'b', 'A', 'b', 'A', 'end'],\n",
       " ['start', 'A', 'b', 'A', 'b', 'end'],\n",
       " ['start', 'A', 'b', 'A', 'c', 'A', 'b', 'A', 'end'],\n",
       " ['start', 'A', 'b', 'A', 'c', 'A', 'b', 'end'],\n",
       " ['start', 'A', 'b', 'A', 'c', 'A', 'c', 'A', 'end'],\n",
       " ['start', 'A', 'b', 'A', 'c', 'A', 'end'],\n",
       " ['start', 'A', 'b', 'A', 'end'],\n",
       " ['start', 'A', 'b', 'd', 'b', 'A', 'c', 'A', 'end'],\n",
       " ['start', 'A', 'b', 'd', 'b', 'A', 'end'],\n",
       " ['start', 'A', 'b', 'd', 'b', 'end'],\n",
       " ['start', 'A', 'b', 'end'],\n",
       " ['start', 'A', 'c', 'A', 'b', 'A', 'b', 'A', 'end'],\n",
       " ['start', 'A', 'c', 'A', 'b', 'A', 'b', 'end'],\n",
       " ['start', 'A', 'c', 'A', 'b', 'A', 'c', 'A', 'end'],\n",
       " ['start', 'A', 'c', 'A', 'b', 'A', 'end'],\n",
       " ['start', 'A', 'c', 'A', 'b', 'd', 'b', 'A', 'end'],\n",
       " ['start', 'A', 'c', 'A', 'b', 'd', 'b', 'end'],\n",
       " ['start', 'A', 'c', 'A', 'b', 'end'],\n",
       " ['start', 'A', 'c', 'A', 'c', 'A', 'b', 'A', 'end'],\n",
       " ['start', 'A', 'c', 'A', 'c', 'A', 'b', 'end'],\n",
       " ['start', 'A', 'c', 'A', 'c', 'A', 'end'],\n",
       " ['start', 'A', 'c', 'A', 'end'],\n",
       " ['start', 'A', 'end'],\n",
       " ['start', 'b', 'A', 'b', 'A', 'c', 'A', 'end'],\n",
       " ['start', 'b', 'A', 'b', 'A', 'end'],\n",
       " ['start', 'b', 'A', 'b', 'end'],\n",
       " ['start', 'b', 'A', 'c', 'A', 'b', 'A', 'end'],\n",
       " ['start', 'b', 'A', 'c', 'A', 'b', 'end'],\n",
       " ['start', 'b', 'A', 'c', 'A', 'c', 'A', 'end'],\n",
       " ['start', 'b', 'A', 'c', 'A', 'end'],\n",
       " ['start', 'b', 'A', 'end'],\n",
       " ['start', 'b', 'd', 'b', 'A', 'c', 'A', 'end'],\n",
       " ['start', 'b', 'd', 'b', 'A', 'end'],\n",
       " ['start', 'b', 'd', 'b', 'end'],\n",
       " ['start', 'b', 'end']]"
      ]
     },
     "execution_count": 8,
     "metadata": {},
     "output_type": "execute_result"
    }
   ],
   "source": [
    "g = create_graph(test_input_location())\n",
    "c = Counter()\n",
    "paths = drunken_walk_part2(g, 'start', c)\n",
    "assert len(paths) == 36\n",
    "sorted(paths)"
   ]
  },
  {
   "cell_type": "code",
   "execution_count": 9,
   "metadata": {},
   "outputs": [],
   "source": [
    "g = create_graph(test_input_location_slightly())\n",
    "paths = drunken_walk_part2(g, 'start', Counter())\n",
    "assert len(paths) == 103\n",
    "# sorted(paths)\n"
   ]
  },
  {
   "cell_type": "code",
   "execution_count": 10,
   "metadata": {},
   "outputs": [],
   "source": [
    "g = create_graph(test_input_location_even())\n",
    "paths = drunken_walk_part2(g, 'start', Counter())\n",
    "assert len(paths)  == 3509"
   ]
  },
  {
   "cell_type": "code",
   "execution_count": 11,
   "metadata": {},
   "outputs": [
    {
     "data": {
      "text/plain": [
       "99138"
      ]
     },
     "execution_count": 11,
     "metadata": {},
     "output_type": "execute_result"
    }
   ],
   "source": [
    "g = create_graph(input_location())\n",
    "paths = drunken_walk_part2(g, 'start', Counter())\n",
    "len(paths)"
   ]
  },
  {
   "cell_type": "code",
   "execution_count": null,
   "metadata": {},
   "outputs": [],
   "source": []
  }
 ],
 "metadata": {
  "interpreter": {
   "hash": "ae981610c82baf8dde312b9cabe619eb6b77f5b8e197b22f2a09a689406db354"
  },
  "kernelspec": {
   "display_name": "Python 3.10.0 64-bit ('venv': venv)",
   "language": "python",
   "name": "python3"
  },
  "language_info": {
   "codemirror_mode": {
    "name": "ipython",
    "version": 3
   },
   "file_extension": ".py",
   "mimetype": "text/x-python",
   "name": "python",
   "nbconvert_exporter": "python",
   "pygments_lexer": "ipython3",
   "version": "3.10.0"
  },
  "orig_nbformat": 4
 },
 "nbformat": 4,
 "nbformat_minor": 2
}
