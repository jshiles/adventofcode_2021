{
 "cells": [
  {
   "cell_type": "markdown",
   "metadata": {},
   "source": [
    "# Day 8: Seven Segment Search\n",
    "https://adventofcode.com/2021/day/8"
   ]
  },
  {
   "cell_type": "markdown",
   "metadata": {},
   "source": [
    "### Part 1\n",
    "\n",
    "For now, focus on the easy digits. Consider this larger example:\n",
    "\n",
    "Because the digits 1, 4, 7, and 8 each use a unique number of segments, you should be able to tell which combinations of signals correspond to those digits. Counting only digits in the output values (the part after | on each line), in the above example, there are 26 instances of digits that use a unique number of segments (highlighted above).\n",
    "\n",
    "In the output values, how many times do digits 1, 4, 7, or 8 appear?"
   ]
  },
  {
   "cell_type": "code",
   "execution_count": 1,
   "metadata": {},
   "outputs": [],
   "source": [
    "from typing import Optional\n",
    "from advent_of_code import utils"
   ]
  },
  {
   "cell_type": "code",
   "execution_count": 2,
   "metadata": {},
   "outputs": [],
   "source": [
    "def parse_line(line):\n",
    "    \"\"\"\n",
    "    Parse a single input line,\n",
    "    Return\n",
    "        List of Tuple of sorted digits for input and\n",
    "        List of Tuple of sorted digits for readout\n",
    "    \"\"\"\n",
    "    input_str, readout_str = line.strip().split(\" | \")\n",
    "\n",
    "    input = [tuple(sorted(digit)) for digit in input_str.split(\" \")]\n",
    "    readout = [tuple(sorted(digit)) for digit in readout_str.split(\" \")]\n",
    "\n",
    "    return input, readout\n",
    "\n",
    "\n",
    "def determine_uniques(sig_sets: list[tuple]) -> dict:\n",
    "    \"\"\"Return deterministic segment to number mappings.\"\"\"\n",
    "    d: dict = {}\n",
    "    for s in sig_sets:\n",
    "        if len(s) == 2:\n",
    "            d[s] = 1\n",
    "        elif len(s) == 3:\n",
    "            d[s] = 7\n",
    "        elif len(s) == 4:\n",
    "            d[s] = 4\n",
    "        elif len(s) == 7:\n",
    "            d[s] = 8\n",
    "    return d\n",
    "\n",
    "\n",
    "def intersection_size(s1: tuple, s2: tuple) -> int:\n",
    "    \"\"\"returns length of intersection set between two strings.\"\"\"\n",
    "    return len(set(s1).intersection(s2))\n",
    "\n",
    "\n",
    "def value_to_key(mapping: dict, value: int) -> Optional[tuple]:\n",
    "    \"\"\"Given a value in a dictionary we return the first match\"\"\"\n",
    "    return next(\n",
    "        (signal for signal, num in mapping.items() if num == value), None\n",
    "    )\n",
    "\n",
    "\n",
    "def determine_length_six(mapping, sig_sets):\n",
    "    \"\"\"Of length 6, se have 0, 6, and 9. Find matches and set mapping.\"\"\"\n",
    "\n",
    "    for s in sig_sets:\n",
    "        if len(s) != 6 or s in mapping.keys():\n",
    "            continue\n",
    "\n",
    "        if (\n",
    "            value_to_key(mapping, 1)\n",
    "            and intersection_size(value_to_key(mapping, 1), s) == 1\n",
    "        ):\n",
    "            mapping[s] = 6\n",
    "\n",
    "        elif (\n",
    "            value_to_key(mapping, 4)\n",
    "            and intersection_size(value_to_key(mapping, 4), s) == 4\n",
    "        ):\n",
    "            mapping[s] = 9\n",
    "\n",
    "        elif (\n",
    "            value_to_key(mapping, 4)\n",
    "            and intersection_size(value_to_key(mapping, 4), s) == 3\n",
    "            and value_to_key(mapping, 1)\n",
    "            and intersection_size(value_to_key(mapping, 1), s) == 2\n",
    "        ):\n",
    "            mapping[s] = 0\n",
    "\n",
    "\n",
    "def determine_length_five(mapping, sig_sets):\n",
    "    \"\"\"Of length 5, se have 2, 3, and 5. Find matches and set mapping.\"\"\"\n",
    "\n",
    "    for s in sig_sets:\n",
    "        if len(s) != 5 or s in mapping.keys():\n",
    "            continue\n",
    "\n",
    "        if (\n",
    "            value_to_key(mapping, 4)\n",
    "            and intersection_size(value_to_key(mapping, 4), s) == 2\n",
    "        ):\n",
    "            mapping[s] = 2\n",
    "\n",
    "        elif (\n",
    "            value_to_key(mapping, 7)\n",
    "            and intersection_size(value_to_key(mapping, 7), s) == 3\n",
    "        ):\n",
    "            mapping[s] = 3\n",
    "\n",
    "        elif (\n",
    "            value_to_key(mapping, 4)\n",
    "            and intersection_size(value_to_key(mapping, 4), s) == 3\n",
    "        ):\n",
    "            mapping[s] = 5\n",
    "\n",
    "\n",
    "def readout_sig_to_num(mapping, readouts) -> int:\n",
    "    \"\"\"convert readout signals into their numbers\"\"\"\n",
    "    readout_num = 0\n",
    "    for s in readouts:\n",
    "        readout_num = readout_num * 10 + mapping.get(s)\n",
    "    return readout_num\n",
    "\n"
   ]
  },
  {
   "cell_type": "code",
   "execution_count": 3,
   "metadata": {},
   "outputs": [
    {
     "data": {
      "text/plain": [
       "470"
      ]
     },
     "execution_count": 3,
     "metadata": {},
     "output_type": "execute_result"
    }
   ],
   "source": [
    "# Run test input and ensure it gives the correct answer.\n",
    "sum = 0\n",
    "with open(input_file) as f:\n",
    "    for line in f:\n",
    "        _, readouts = parse_line(line)\n",
    "        mapping: dict = determine_uniques(readouts)\n",
    "        sum += len([r for r in readouts if r in mapping.keys()])\n",
    "assert sum == 26\n",
    "\n",
    "# Run \"production\" input and print answer.\n",
    "input_file = utils.input_location(day=8)\n",
    "sum = 0\n",
    "with open(input_file) as f:\n",
    "    for line in f:\n",
    "        _, readouts = parse_line(line)\n",
    "        mapping: dict = determine_uniques(readouts)\n",
    "        sum += len([r for r in readouts if r in mapping.keys()])\n",
    "sum"
   ]
  },
  {
   "cell_type": "markdown",
   "metadata": {},
   "source": [
    "### Part 2\n",
    "\n",
    "For each entry, determine all of the wire/segment connections and decode the four-digit output values. What do you get if you add up all of the output values?"
   ]
  },
  {
   "cell_type": "code",
   "execution_count": 4,
   "metadata": {},
   "outputs": [],
   "source": [
    "def process_input(input_file: str) -> int:\n",
    "    \"\"\"returns sum of readouts, i.e., answer to part two\"\"\"\n",
    "\n",
    "    sum_all = 0\n",
    "    with open(input_file) as f:\n",
    "        for line in f:\n",
    "            inputs, readouts = parse_line(line)\n",
    "\n",
    "            # d in form -> tuple(sorted signal): readout int\n",
    "            # determine 1, 4, 7, 8 based on their length being unique.\n",
    "            mapping: dict = determine_uniques(inputs + readouts)\n",
    "\n",
    "            # determine the 6 length numbers 0, 6, 9\n",
    "            determine_length_six(mapping, inputs + readouts)\n",
    "\n",
    "            # determine the 5 length numbers 2, 3, 5\n",
    "            determine_length_five(mapping, inputs + readouts)\n",
    "\n",
    "            values = [\n",
    "                value_to_key(mapping, 0),\n",
    "                value_to_key(mapping, 1),\n",
    "                value_to_key(mapping, 2),\n",
    "                value_to_key(mapping, 3),\n",
    "                value_to_key(mapping, 4),\n",
    "                value_to_key(mapping, 5),\n",
    "                value_to_key(mapping, 6),\n",
    "                value_to_key(mapping, 7),\n",
    "                value_to_key(mapping, 8),\n",
    "                value_to_key(mapping, 9),\n",
    "            ]\n",
    "\n",
    "            if any(values) is None:\n",
    "                print(values)\n",
    "                raise ValueError(\"One of the values was not mapped.\")\n",
    "\n",
    "            readout = readout_sig_to_num(mapping, readouts)\n",
    "            sum_all += readout\n",
    "\n",
    "    return sum_all"
   ]
  },
  {
   "cell_type": "code",
   "execution_count": 5,
   "metadata": {},
   "outputs": [
    {
     "data": {
      "text/plain": [
       "989396"
      ]
     },
     "execution_count": 5,
     "metadata": {},
     "output_type": "execute_result"
    }
   ],
   "source": [
    "# Run test input and assert the answer.\n",
    "input_file = utils.test_input_location(day=8)\n",
    "assert process_input(input_file) == 61229\n",
    "\n",
    "# Run \"production\" input and print the answer.\n",
    "input_file = utils.input_location(day=8)\n",
    "process_input(input_file)"
   ]
  },
  {
   "cell_type": "code",
   "execution_count": null,
   "metadata": {},
   "outputs": [],
   "source": []
  }
 ],
 "metadata": {
  "interpreter": {
   "hash": "ae981610c82baf8dde312b9cabe619eb6b77f5b8e197b22f2a09a689406db354"
  },
  "kernelspec": {
   "display_name": "Python 3.10.0 64-bit ('venv': venv)",
   "language": "python",
   "name": "python3"
  },
  "language_info": {
   "codemirror_mode": {
    "name": "ipython",
    "version": 3
   },
   "file_extension": ".py",
   "mimetype": "text/x-python",
   "name": "python",
   "nbconvert_exporter": "python",
   "pygments_lexer": "ipython3",
   "version": "3.10.0"
  },
  "orig_nbformat": 4
 },
 "nbformat": 4,
 "nbformat_minor": 2
}
