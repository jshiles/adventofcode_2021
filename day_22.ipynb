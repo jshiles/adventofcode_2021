{
 "cells": [
  {
   "cell_type": "markdown",
   "metadata": {},
   "source": [
    "# Day 22: Reactor Reboot\n",
    "https://adventofcode.com/2021/day/22"
   ]
  },
  {
   "cell_type": "code",
   "execution_count": 1,
   "metadata": {},
   "outputs": [],
   "source": [
    "import re\n",
    "from typing import Optional, List\n",
    "from advent_of_code.day_22 import Cube\n",
    "from advent_of_code.utils import input_location, test_input_location\n",
    "\n",
    "%load_ext blackcellmagic\n",
    "%load_ext autoreload\n",
    "%autoreload 2"
   ]
  },
  {
   "cell_type": "markdown",
   "metadata": {},
   "source": [
    "### Part 1\n",
    "The modules can be found [here](advent_of_code/day_22.py)."
   ]
  },
  {
   "cell_type": "code",
   "execution_count": 2,
   "metadata": {},
   "outputs": [],
   "source": [
    "def instruction_to_cube(instruction: str) -> Optional[Cube]:\n",
    "    \"\"\"\n",
    "    Parses the instruction into a Cube oject\n",
    "        e.g., \"on x=67154..79964,y=36813..47407,z=-14931..-10102\"\n",
    "    Returns a Cube\n",
    "    \"\"\"\n",
    "    m = re.search(\n",
    "        \"(off|on) x=(-{0,1}\\d+)\\.\\.(-{0,1}\\d+),y=(-{0,1}\\d+)\\.\\.(-{0,1}\\d+),z=(-{0,1}\\d+)\\.\\.(-{0,1}\\d+)\",\n",
    "        instruction,\n",
    "    )\n",
    "    if m:\n",
    "        cmd = m.group(1)\n",
    "        x1, x2 = sorted([int(m.group(2)), int(m.group(3))])\n",
    "        y1, y2 = sorted([int(m.group(4)), int(m.group(5))])\n",
    "        z1, z2 = sorted([int(m.group(6)), int(m.group(7))])\n",
    "        return Cube(cmd=='on', x1, x2, y1, y2, z1, z2)\n",
    "    else:\n",
    "        return\n",
    "\n",
    "def run_sequence(instructions: list[str], bound: bool = True) -> int:\n",
    "    \"\"\"takes instructions, returns count of 'on' cores.\"\"\"\n",
    "\n",
    "    reactor_cores: List[Cube] = []\n",
    "    for instruction in instructions:\n",
    "        c1 = instruction_to_cube(instruction)\n",
    "        if not c1 or (bound and not c1.in_bounds(-50,50)):\n",
    "            continue\n",
    "\n",
    "        new_cores: List[Cube] = []\n",
    "        if c1.add:\n",
    "            new_cores.append(c1)\n",
    "        \n",
    "        for core in reactor_cores:\n",
    "            intersect = core.intersection(c1)\n",
    "            if intersect:\n",
    "                new_cores.append(intersect)\n",
    "\n",
    "        reactor_cores += new_cores\n",
    "    \n",
    "    return sum([core.count_on() for core in reactor_cores])"
   ]
  },
  {
   "cell_type": "code",
   "execution_count": 3,
   "metadata": {},
   "outputs": [],
   "source": [
    "# Test Input\n",
    "instructions: list[str] = [\n",
    "    \"on x=10..12,y=10..12,z=10..12\",\n",
    "    \"on x=11..13,y=11..13,z=11..13\",\n",
    "    \"off x=9..11,y=9..11,z=9..11\",\n",
    "    \"on x=10..10,y=10..10,z=10..10\"\n",
    "]\n",
    "\n",
    "assert run_sequence(instructions) == 39"
   ]
  },
  {
   "cell_type": "code",
   "execution_count": 4,
   "metadata": {},
   "outputs": [],
   "source": [
    "# Test Input\n",
    "instructions: list[str] = []\n",
    "with open(test_input_location(day=22)) as f:\n",
    "    for line in f:\n",
    "        if line.rstrip():\n",
    "            instructions.append(line)\n",
    "assert run_sequence(instructions) == 590784"
   ]
  },
  {
   "cell_type": "code",
   "execution_count": 5,
   "metadata": {},
   "outputs": [
    {
     "data": {
      "text/plain": [
       "590467"
      ]
     },
     "execution_count": 5,
     "metadata": {},
     "output_type": "execute_result"
    }
   ],
   "source": [
    "# Answer P1\n",
    "instructions: list[str] = []\n",
    "with open(input_location(day=22)) as f:\n",
    "    for line in f:\n",
    "        if line.rstrip():\n",
    "            instructions.append(line)\n",
    "run_sequence(instructions)"
   ]
  },
  {
   "cell_type": "markdown",
   "metadata": {},
   "source": [
    "### Part 2"
   ]
  },
  {
   "cell_type": "code",
   "execution_count": 6,
   "metadata": {},
   "outputs": [
    {
     "data": {
      "text/plain": [
       "1225064738333321"
      ]
     },
     "execution_count": 6,
     "metadata": {},
     "output_type": "execute_result"
    }
   ],
   "source": [
    "# Answer P2\n",
    "instructions: list[str] = []\n",
    "with open(input_location(day=22)) as f:\n",
    "    for line in f:\n",
    "        if line.rstrip():\n",
    "            instructions.append(line)\n",
    "run_sequence(instructions, bound=False)"
   ]
  }
 ],
 "metadata": {
  "interpreter": {
   "hash": "ae981610c82baf8dde312b9cabe619eb6b77f5b8e197b22f2a09a689406db354"
  },
  "kernelspec": {
   "display_name": "Python 3.10.0 64-bit ('venv': venv)",
   "language": "python",
   "name": "python3"
  },
  "language_info": {
   "codemirror_mode": {
    "name": "ipython",
    "version": 3
   },
   "file_extension": ".py",
   "mimetype": "text/x-python",
   "name": "python",
   "nbconvert_exporter": "python",
   "pygments_lexer": "ipython3",
   "version": "3.10.0"
  },
  "orig_nbformat": 4
 },
 "nbformat": 4,
 "nbformat_minor": 2
}
