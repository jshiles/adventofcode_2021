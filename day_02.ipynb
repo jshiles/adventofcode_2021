{
 "cells": [
  {
   "cell_type": "markdown",
   "metadata": {},
   "source": [
    "# Advent of Code Day 2\n",
    "https://adventofcode.com/2021/day/2"
   ]
  },
  {
   "cell_type": "markdown",
   "metadata": {},
   "source": [
    "## Part 1\n",
    "Read movement data and compute the final location (depth * horizontal location)"
   ]
  },
  {
   "cell_type": "code",
   "execution_count": 19,
   "metadata": {},
   "outputs": [],
   "source": [
    "import os\n",
    "from dataclasses import dataclass, field"
   ]
  },
  {
   "cell_type": "code",
   "execution_count": 20,
   "metadata": {},
   "outputs": [],
   "source": [
    "@dataclass(order=True)\n",
    "class SubmarineLocation:\n",
    "    depth: int = field(default=0)\n",
    "    horizontal_position: int = field(default=0)\n",
    "\n",
    "    def move(self, direction:str = 'forward', qty:int = 0) -> None:\n",
    "        # first time using this ;) \n",
    "        match direction: \n",
    "            case 'forward':\n",
    "                self.horizontal_position = self.horizontal_position + qty\n",
    "            case 'up':\n",
    "                self.depth = 0 if self.depth - qty < 0 else self.depth - qty\n",
    "            case 'down':\n",
    "                self.depth = self.depth + qty\n",
    "            case _:\n",
    "                raise ValueError(\"direction {direction} is invalid.\")"
   ]
  },
  {
   "cell_type": "code",
   "execution_count": 21,
   "metadata": {},
   "outputs": [
    {
     "data": {
      "text/plain": [
       "SubmarineLocation(depth=779, horizontal_position=1911)"
      ]
     },
     "execution_count": 21,
     "metadata": {},
     "output_type": "execute_result"
    }
   ],
   "source": [
    "my_submarine = SubmarineLocation()\n",
    "\n",
    "data_directory: str  = 'data/day_2'\n",
    "input_file = os.path.join(data_directory, 'input.txt')\n",
    "with open(input_file) as f:\n",
    "    for line in f:\n",
    "        (direction, qty) = line.strip().split()\n",
    "        my_submarine.move(direction, int(qty))\n",
    "\n",
    "my_submarine"
   ]
  },
  {
   "cell_type": "code",
   "execution_count": 22,
   "metadata": {},
   "outputs": [
    {
     "data": {
      "text/plain": [
       "1488669"
      ]
     },
     "execution_count": 22,
     "metadata": {},
     "output_type": "execute_result"
    }
   ],
   "source": [
    "my_submarine.depth * my_submarine.horizontal_position"
   ]
  },
  {
   "cell_type": "markdown",
   "metadata": {},
   "source": [
    "## Part 2\n",
    "Apparently we read the manual and up and down impact our aim.\n",
    "Let's create a new class inheritting from our previous class and adjust our move method."
   ]
  },
  {
   "cell_type": "code",
   "execution_count": 23,
   "metadata": {},
   "outputs": [],
   "source": [
    "@dataclass(order=True)\n",
    "class SubmarineLocationCorrection(SubmarineLocation):\n",
    "    aim:int = field(default=0)\n",
    "\n",
    "    def move(self, direction:str = 'forward', qty:int = 0) -> None:\n",
    "        match direction: \n",
    "            case 'forward':\n",
    "                # forward X does two things:\n",
    "                #   It increases your horizontal position by X units.\n",
    "                #   It increases your depth by your aim multiplied by X.\n",
    "                self.horizontal_position = self.horizontal_position + qty\n",
    "                depth_change = self.aim * qty \n",
    "                self.depth = 0 if self.depth + depth_change < 0 else self.depth + depth_change\n",
    "            case 'up':\n",
    "                # up X decreases your aim by X units.\n",
    "                self.aim = self.aim - qty\n",
    "            case 'down':\n",
    "                # down X increases your aim by X units.\n",
    "                self.aim = self.aim + qty\n",
    "            case _:\n",
    "                raise ValueError(\"direction {direction} is invalid.\")"
   ]
  },
  {
   "cell_type": "code",
   "execution_count": 24,
   "metadata": {},
   "outputs": [
    {
     "data": {
      "text/plain": [
       "SubmarineLocationCorrection(depth=615654, horizontal_position=1911, aim=779)"
      ]
     },
     "execution_count": 24,
     "metadata": {},
     "output_type": "execute_result"
    }
   ],
   "source": [
    "my_submarine2 = SubmarineLocationCorrection()\n",
    "\n",
    "with open(input_file) as f:\n",
    "    for line in f:\n",
    "        (direction, qty) = line.strip().split()\n",
    "        my_submarine2.move(direction, int(qty))\n",
    "\n",
    "my_submarine2"
   ]
  },
  {
   "cell_type": "code",
   "execution_count": 25,
   "metadata": {},
   "outputs": [
    {
     "data": {
      "text/plain": [
       "1176514794"
      ]
     },
     "execution_count": 25,
     "metadata": {},
     "output_type": "execute_result"
    }
   ],
   "source": [
    "my_submarine2.depth * my_submarine2.horizontal_position"
   ]
  },
  {
   "cell_type": "code",
   "execution_count": null,
   "metadata": {},
   "outputs": [],
   "source": []
  }
 ],
 "metadata": {
  "interpreter": {
   "hash": "ae981610c82baf8dde312b9cabe619eb6b77f5b8e197b22f2a09a689406db354"
  },
  "kernelspec": {
   "display_name": "Python 3.10.0 64-bit ('venv': venv)",
   "language": "python",
   "name": "python3"
  },
  "language_info": {
   "codemirror_mode": {
    "name": "ipython",
    "version": 3
   },
   "file_extension": ".py",
   "mimetype": "text/x-python",
   "name": "python",
   "nbconvert_exporter": "python",
   "pygments_lexer": "ipython3",
   "version": "3.10.0"
  },
  "orig_nbformat": 4
 },
 "nbformat": 4,
 "nbformat_minor": 2
}
