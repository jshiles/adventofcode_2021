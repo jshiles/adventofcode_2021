{
 "cells": [
  {
   "cell_type": "markdown",
   "metadata": {},
   "source": [
    "# Day 13: Transparent Origami\n",
    "https://adventofcode.com/2021/day/13"
   ]
  },
  {
   "cell_type": "markdown",
   "metadata": {},
   "source": [
    "### Part 1\n",
    "First fold."
   ]
  },
  {
   "cell_type": "code",
   "execution_count": 1,
   "metadata": {},
   "outputs": [],
   "source": [
    "import os\n",
    "import re\n",
    "from typing import Tuple, Optional\n",
    "from dataclasses import dataclass, field"
   ]
  },
  {
   "cell_type": "code",
   "execution_count": 58,
   "metadata": {},
   "outputs": [],
   "source": [
    "@dataclass(frozen=True, order=True, eq=True)\n",
    "class Fold:\n",
    "    axis:str = field(default='y')\n",
    "    position: int = field(default=0)\n",
    "\n",
    "@dataclass(frozen=True, order=True, eq=True)\n",
    "class Dot:\n",
    "    x:int\n",
    "    y:int\n",
    "\n",
    "class Paper:\n",
    "    sheet: list[list[Optional[Dot]]]\n",
    "    folds: list[Fold]\n",
    "    length:int\n",
    "    height:int\n",
    "\n",
    "    def __init__(self, input_file:str):\n",
    "        if not os.path.exists(input_file):\n",
    "            raise ValueError(f\"input_file {input_file} is not valid.\")\n",
    "        \n",
    "        dots: list[Dot] = []\n",
    "        self.folds = []\n",
    "\n",
    "        with open(input_file) as f:    \n",
    "            for line in f:\n",
    "                if line.rstrip():\n",
    "                    m_fold = re.search('fold along ([x|y]=[0-9]+)', line, re.IGNORECASE)\n",
    "                    if m_fold:\n",
    "                        axis, position = m_fold.group(1).split(\"=\")\n",
    "                        fold = Fold(axis, int(position))\n",
    "                        self.folds.append(fold)\n",
    "\n",
    "                    m_dot = re.search('^([0-9]+,[0-9]+)$', line, re.IGNORECASE)\n",
    "                    if m_dot:\n",
    "                        x, y = m_dot.group(1).split(\",\")\n",
    "                        dot = Dot(int(x), int(y))\n",
    "                        dots.append(dot)\n",
    "\n",
    "        if len(dots):\n",
    "            self.height = max([int(d.y) for d in dots]) +1\n",
    "            self.width  = max([int(d.x) for d in dots]) +1\n",
    "\n",
    "        self.sheet = [[None for _ in range(self.width)] for _ in range(self.height)]\n",
    "\n",
    "        # insert dots\n",
    "        for d in dots:\n",
    "            try:\n",
    "                self.sheet[d.y][d.x] = d\n",
    "            except (IndexError) as err:\n",
    "                print(d.x, d.y)\n",
    "\n",
    "    def __repr__(self) -> str:\n",
    "        return \"\".join(\n",
    "            [\n",
    "                \"\".join(['.' if c is None else '#' for c in r]) + \"\\n\"\n",
    "                for r in p.sheet\n",
    "            ]\n",
    "        )\n",
    "\n",
    "    def fold(self):\n",
    "        # remove first fold from the list.\n",
    "        next_fold = self.folds.pop(0)\n",
    "        print(next_fold)\n",
    "\n",
    "        if next_fold.axis == 'y':\n",
    "            for x in range (self.width):\n",
    "                for y in range(next_fold.position+1, self.height, 1):\n",
    "                    if self.sheet[y][x] is not None:\n",
    "                        new_y = next_fold.position - (y - next_fold.position)\n",
    "                        new_x = x\n",
    "                        # print(f\"{(x,y)} {(new_x, new_y)}\") \n",
    "                        self.sheet[new_y][new_x] = Dot(new_x, new_y)\n",
    "                        \n",
    "            self.height = next_fold.position\n",
    "        elif next_fold.axis == 'x':\n",
    "            for x in range(next_fold.position+1, self.width, 1):    \n",
    "                for y in range (self.height):\n",
    "                    if self.sheet[y][x] is not None:\n",
    "                        new_y = y \n",
    "                        new_x = next_fold.position - (x - next_fold.position)\n",
    "                        # print(f\"{(x,y)} {(new_x, new_y)}\")     \n",
    "                        self.sheet[y][new_x] = Dot(new_x, new_y)\n",
    "\n",
    "            self.width = next_fold.position\n",
    "        \n",
    "        self.sheet = [sublist[:self.width] for sublist in p.sheet][:self.height]\n",
    "            \n",
    "\n",
    "    def count_dots(self) -> int:\n",
    "        return sum([sum([0 if c is None else 1 for c in r]) for r in p.sheet])\n",
    "\n",
    "# input data.\n",
    "def test_input_location(\n",
    "    file_loc: str = 'test_input.txt', \n",
    "    data_directory: str  = 'data/day_13'\n",
    ") -> str:\n",
    "    return os.path.join(data_directory, file_loc)\n",
    "\n",
    "def input_location(\n",
    "    file_loc: str = 'input.txt', \n",
    "    data_directory: str  = 'data/day_13'\n",
    ") -> str:\n",
    "    return os.path.join(data_directory, file_loc)\n"
   ]
  },
  {
   "cell_type": "code",
   "execution_count": 59,
   "metadata": {},
   "outputs": [
    {
     "name": "stdout",
     "output_type": "stream",
     "text": [
      "18\n"
     ]
    },
    {
     "data": {
      "text/plain": [
       "...#..#..#.\n",
       "....#......\n",
       "...........\n",
       "#..........\n",
       "...#....#.#\n",
       "...........\n",
       "...........\n",
       "...........\n",
       "...........\n",
       "...........\n",
       ".#....#.##.\n",
       "....#......\n",
       "......#...#\n",
       "#..........\n",
       "#.#........"
      ]
     },
     "execution_count": 59,
     "metadata": {},
     "output_type": "execute_result"
    }
   ],
   "source": [
    "p = Paper(test_input_location())\n",
    "print(p.count_dots())\n",
    "p"
   ]
  },
  {
   "cell_type": "code",
   "execution_count": 60,
   "metadata": {},
   "outputs": [
    {
     "name": "stdout",
     "output_type": "stream",
     "text": [
      "Fold(axis='y', position=7)\n"
     ]
    },
    {
     "data": {
      "text/plain": [
       "#.##..#..#.\n",
       "#...#......\n",
       "......#...#\n",
       "#...#......\n",
       ".#.#..#.###\n",
       "...........\n",
       "..........."
      ]
     },
     "execution_count": 60,
     "metadata": {},
     "output_type": "execute_result"
    }
   ],
   "source": [
    "p.fold()\n",
    "assert p.count_dots() == 17\n",
    "p"
   ]
  },
  {
   "cell_type": "code",
   "execution_count": 61,
   "metadata": {},
   "outputs": [
    {
     "name": "stdout",
     "output_type": "stream",
     "text": [
      "Fold(axis='x', position=5)\n"
     ]
    },
    {
     "data": {
      "text/plain": [
       "#####\n",
       "#...#\n",
       "#...#\n",
       "#...#\n",
       "#####\n",
       ".....\n",
       "....."
      ]
     },
     "execution_count": 61,
     "metadata": {},
     "output_type": "execute_result"
    }
   ],
   "source": [
    "p.fold()\n",
    "assert p.count_dots() == 16\n",
    "p"
   ]
  },
  {
   "cell_type": "code",
   "execution_count": 62,
   "metadata": {},
   "outputs": [
    {
     "name": "stdout",
     "output_type": "stream",
     "text": [
      "983\n",
      "Fold(axis='x', position=655)\n",
      "810\n"
     ]
    }
   ],
   "source": [
    "p = Paper(input_location())\n",
    "print(p.count_dots())\n",
    "p.fold()\n",
    "print(p.count_dots())  # after 1 fold"
   ]
  },
  {
   "cell_type": "markdown",
   "metadata": {},
   "source": [
    "### Part 2\n",
    "Fold it all and read the 8 digit code that is left."
   ]
  },
  {
   "cell_type": "code",
   "execution_count": 63,
   "metadata": {},
   "outputs": [
    {
     "name": "stdout",
     "output_type": "stream",
     "text": [
      "Fold(axis='x', position=655)\n",
      "Fold(axis='y', position=447)\n",
      "Fold(axis='x', position=327)\n",
      "Fold(axis='y', position=223)\n",
      "Fold(axis='x', position=163)\n",
      "Fold(axis='y', position=111)\n",
      "Fold(axis='x', position=81)\n",
      "Fold(axis='y', position=55)\n",
      "Fold(axis='x', position=40)\n",
      "Fold(axis='y', position=27)\n",
      "Fold(axis='y', position=13)\n",
      "Fold(axis='y', position=6)\n"
     ]
    },
    {
     "data": {
      "text/plain": [
       "#..#.#....###..#..#.###...##..####.###..\n",
       "#..#.#....#..#.#..#.#..#.#..#.#....#..#.\n",
       "####.#....###..#..#.###..#....###..#..#.\n",
       "#..#.#....#..#.#..#.#..#.#.##.#....###..\n",
       "#..#.#....#..#.#..#.#..#.#..#.#....#.#..\n",
       "#..#.####.###...##..###...###.#....#..#."
      ]
     },
     "execution_count": 63,
     "metadata": {},
     "output_type": "execute_result"
    }
   ],
   "source": [
    "p = Paper(input_location())\n",
    "for _ in range(len(p.folds)):\n",
    "    p.fold()\n",
    "p"
   ]
  },
  {
   "cell_type": "markdown",
   "metadata": {},
   "source": [
    "*If you cannot read that... \"HLBUBGFR\"*"
   ]
  },
  {
   "cell_type": "markdown",
   "metadata": {},
   "source": []
  }
 ],
 "metadata": {
  "interpreter": {
   "hash": "a32fed83456836e453557bffebece4d4e060a93588396cef5b587e9ddec97019"
  },
  "kernelspec": {
   "display_name": "Python 3.8.2 64-bit ('venv': venv)",
   "language": "python",
   "name": "python3"
  },
  "language_info": {
   "codemirror_mode": {
    "name": "ipython",
    "version": 3
   },
   "file_extension": ".py",
   "mimetype": "text/x-python",
   "name": "python",
   "nbconvert_exporter": "python",
   "pygments_lexer": "ipython3",
   "version": "3.10.0"
  },
  "orig_nbformat": 4
 },
 "nbformat": 4,
 "nbformat_minor": 2
}
