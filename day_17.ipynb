{
 "cells": [
  {
   "cell_type": "markdown",
   "metadata": {},
   "source": [
    "# Day 17: Trick Shot\n",
    "https://adventofcode.com/2021/day/17"
   ]
  },
  {
   "cell_type": "markdown",
   "metadata": {},
   "source": [
    "### Part 1\n",
    "What is the highest y position it reaches on this trajectory?"
   ]
  },
  {
   "cell_type": "code",
   "execution_count": 1,
   "metadata": {},
   "outputs": [],
   "source": [
    "from dataclasses import dataclass, field, InitVar\n",
    "from typing import Optional, Tuple\n",
    "\n",
    "%load_ext blackcellmagic"
   ]
  },
  {
   "cell_type": "code",
   "execution_count": 2,
   "metadata": {},
   "outputs": [],
   "source": [
    "@dataclass(frozen=True, order=True, eq=True)\n",
    "class Location:\n",
    "    \"\"\"Location object\"\"\"\n",
    "\n",
    "    x: int = field(compare=False)\n",
    "    y: int = field(compare=True)\n",
    "\n",
    "\n",
    "@dataclass\n",
    "class Target:\n",
    "    \"\"\"Targt object.\"\"\"\n",
    "\n",
    "    minx: InitVar[int]\n",
    "    maxx: InitVar[int]\n",
    "    miny: InitVar[int]\n",
    "    maxy: InitVar[int]\n",
    "    upper_left: Location\n",
    "    bottom_right: Location\n",
    "\n",
    "    def __init__(self, minx: int, maxx: int, miny: int, maxy: int):\n",
    "        self.upper_left = Location(min(minx, maxx), max(miny, maxy))\n",
    "        self.bottom_right = Location(max(minx, maxx), min(miny, maxy))\n",
    "\n",
    "    def in_target_area(self, l: Location) -> bool:\n",
    "        \"\"\"\n",
    "        Determins if the location, l, is within the boundaries of the\n",
    "        target. Returns True if yes, False if not.\n",
    "        \"\"\"\n",
    "        if (\n",
    "            self.upper_left.x <= l.x <= self.bottom_right.x\n",
    "            and self.bottom_right.y <= l.y <= self.upper_left.y\n",
    "        ):\n",
    "            return True\n",
    "        else:\n",
    "            return False\n",
    "\n",
    "\n",
    "@dataclass\n",
    "class Probe:\n",
    "    \"\"\"\n",
    "    Probe object.\n",
    "    Simulates a probe fire, given a starting point of 0,0 and a\n",
    "    starting x and y velocity.\n",
    "    \"\"\"\n",
    "\n",
    "    velocity_x: int = field(default=0, repr=False, compare=False)\n",
    "    velocity_y: int = field(default=0, repr=False, compare=False)\n",
    "    steps: int = field(default=0, repr=False, compare=False)\n",
    "    locations: Optional[list[Location]] = field(default_factory=list)\n",
    "\n",
    "    def __post_init__(self):\n",
    "        self.locations = []\n",
    "        self.locations.append(Location(0, 0))\n",
    "        self._step()\n",
    "\n",
    "    def _step(self, drag: int = -1, gravity: int = -1):\n",
    "        \"\"\"make step\"\"\"\n",
    "        last_location = self.locations[-1]\n",
    "        new_location = Location(\n",
    "            last_location.x + self.velocity_x, last_location.y + self.velocity_y\n",
    "        )\n",
    "        self.locations.append(new_location)\n",
    "        self.steps = self.steps + 1\n",
    "\n",
    "        self.velocity_x = (\n",
    "            self.velocity_x + drag if self.velocity_x > 0 else self.velocity_x\n",
    "        )\n",
    "        self.velocity_y = self.velocity_y + gravity\n",
    "\n",
    "    def fire(self, t: Target) -> bool:\n",
    "        \"\"\"\n",
    "        Fires probe. Return True if eventually hits the target, or False\n",
    "        if it passes the targetby\n",
    "        \"\"\"\n",
    "        if self.hit_target(t):\n",
    "            return True\n",
    "            \n",
    "        while (\n",
    "            self.locations[-1].x <= t.bottom_right.x\n",
    "            and self.locations[-1].y >= t.bottom_right.y\n",
    "        ):\n",
    "            self._step()\n",
    "            if self.hit_target(t):\n",
    "                return True\n",
    "        return False\n",
    "\n",
    "    def hit_target(self, t: Target) -> bool:\n",
    "        \"\"\"\n",
    "        Is the last location within the target, t? True if yes, False \n",
    "        if not.\n",
    "        \"\"\"\n",
    "        return t.in_target_area(self.locations[-1])\n",
    "\n",
    "    def max_height(self):\n",
    "        \"\"\"\n",
    "        Returns the location with the max height from the locations on\n",
    "        the trajectory.\n",
    "        \"\"\"\n",
    "        return max([height for height in self.locations])"
   ]
  },
  {
   "cell_type": "code",
   "execution_count": 3,
   "metadata": {},
   "outputs": [],
   "source": [
    "# Unit testing the code we have with the samples provided in\n",
    "# the text.\n",
    "\n",
    "test_target = Target(20, 30, -10, -5)\n",
    "\n",
    "probe = Probe(7, 2)\n",
    "assert probe.fire(test_target) == True  # hits\n",
    "assert len(probe.locations) == 8  # reaches in 8 steps (incl. orig 0,0)\n",
    "\n",
    "probe = Probe(17, -4)\n",
    "assert probe.fire(test_target) == False  # misses\n",
    "\n",
    "probe = Probe(6, 9)\n",
    "assert probe.fire(test_target) == True  # hits\n",
    "assert probe.max_height().y == 45  # reaches height of 45"
   ]
  },
  {
   "cell_type": "code",
   "execution_count": 4,
   "metadata": {},
   "outputs": [
    {
     "name": "stdout",
     "output_type": "stream",
     "text": [
      "(6, 9) Location(x=21, y=45)\n"
     ]
    }
   ],
   "source": [
    "def sweep(t: Target) -> Tuple[int, int]:\n",
    "    \"\"\"\n",
    "    Brute force sweep of the space, return x and y with the\n",
    "    max height.\n",
    "    \"\"\"\n",
    "\n",
    "    max_x = None\n",
    "    max_y = None\n",
    "    max_height: Location = Location(0, 0)\n",
    "\n",
    "    for velocity_x in range(1, t.bottom_right.x + 1, 1):\n",
    "        for velocity_y in range(t.bottom_right.y, abs(t.bottom_right.y), 1):\n",
    "            probe = Probe(velocity_x, velocity_y)\n",
    "            hits: bool = probe.fire(t)\n",
    "            if hits and probe.max_height() > max_height:\n",
    "                # print((velocity_x, velocity_y), max_height)\n",
    "                max_x = velocity_x\n",
    "                max_y = velocity_y\n",
    "                max_height = probe.max_height()\n",
    "    return max_x, max_y\n",
    "\n",
    "\n",
    "x, y = sweep(Target(20, 30, -10, -5))\n",
    "p = Probe(x, y)\n",
    "p.fire(Target(20, 30, -10, -5))\n",
    "print((x, y), p.max_height())"
   ]
  },
  {
   "cell_type": "code",
   "execution_count": 5,
   "metadata": {},
   "outputs": [
    {
     "name": "stdout",
     "output_type": "stream",
     "text": [
      "(10, 188) Location(x=55, y=17766)\n"
     ]
    }
   ],
   "source": [
    "target = Target(48, 70, -189, -148)\n",
    "x, y = sweep(target)\n",
    "p = Probe(x,y)\n",
    "p.fire(target)\n",
    "\n",
    "# Print the initial velocity as a tuple and the location\n",
    "# with the highest total height.\n",
    "print((x, y), p.max_height())"
   ]
  },
  {
   "cell_type": "markdown",
   "metadata": {},
   "source": [
    "### Part 2"
   ]
  },
  {
   "cell_type": "code",
   "execution_count": 6,
   "metadata": {},
   "outputs": [
    {
     "data": {
      "text/plain": [
       "1733"
      ]
     },
     "execution_count": 6,
     "metadata": {},
     "output_type": "execute_result"
    }
   ],
   "source": [
    "def sweep_all(t: Target) -> int:\n",
    "    \"\"\"\n",
    "    Brute force sweep of the space, return a count of x and y\n",
    "    initial velocities that will hit the target.\n",
    "    \"\"\"\n",
    "    count: int = 0\n",
    "    for velocity_x in range(1, t.bottom_right.x+1, 1):\n",
    "        for velocity_y in range(t.bottom_right.y-1, abs(t.bottom_right.y)+1, 1):\n",
    "            if Probe(velocity_x, velocity_y).fire(t):\n",
    "                count = count + 1\n",
    "    return count\n",
    "\n",
    "# unit test our code.\n",
    "sweep_all(Target(20, 30, -10, -5)) == 112\n",
    "sweep_all(Target(48, 70, -189, -148))\n"
   ]
  },
  {
   "cell_type": "code",
   "execution_count": null,
   "metadata": {},
   "outputs": [],
   "source": []
  }
 ],
 "metadata": {
  "interpreter": {
   "hash": "ae981610c82baf8dde312b9cabe619eb6b77f5b8e197b22f2a09a689406db354"
  },
  "kernelspec": {
   "display_name": "Python 3.10.0 64-bit ('venv': venv)",
   "language": "python",
   "name": "python3"
  },
  "language_info": {
   "codemirror_mode": {
    "name": "ipython",
    "version": 3
   },
   "file_extension": ".py",
   "mimetype": "text/x-python",
   "name": "python",
   "nbconvert_exporter": "python",
   "pygments_lexer": "ipython3",
   "version": "3.10.0"
  },
  "orig_nbformat": 4
 },
 "nbformat": 4,
 "nbformat_minor": 2
}
