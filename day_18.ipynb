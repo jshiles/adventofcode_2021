{
 "cells": [
  {
   "cell_type": "markdown",
   "metadata": {},
   "source": [
    "# Day 18: Snailfish\n",
    "https://adventofcode.com/2021/day/18"
   ]
  },
  {
   "cell_type": "markdown",
   "metadata": {},
   "source": [
    "### Part 1"
   ]
  },
  {
   "cell_type": "code",
   "execution_count": 1,
   "metadata": {},
   "outputs": [],
   "source": [
    "import math\n",
    "import uuid\n",
    "from dataclasses import dataclass, field\n",
    "from functools import reduce\n",
    "from typing import Optional, Union, Tuple, List\n",
    "from __future__ import annotations\n",
    "from advent_of_code.utils import input_location, test_input_location\n",
    "\n",
    "%load_ext blackcellmagic"
   ]
  },
  {
   "cell_type": "code",
   "execution_count": 2,
   "metadata": {},
   "outputs": [],
   "source": [
    "@dataclass(eq=True, order=True)\n",
    "class Pair:\n",
    "    left: Union[Pair, int]\n",
    "    right: Union[Pair, int]\n",
    "    uuid: Optional[str] = field(\n",
    "        default=uuid.uuid1(), repr=False, compare=True\n",
    "    )  # make unique for comparisons.\n",
    "\n",
    "    def __add__(self, x: Pair) -> Pair:\n",
    "        return Pair(self, x)\n",
    "\n",
    "    def __repr__(self) -> str:\n",
    "        return f\"[{self.left},{self.right}]\"\n",
    "\n",
    "    def explode(self) -> bool:\n",
    "        \"\"\"explode\"\"\"\n",
    "        explode_pair = self._find_pair_to_explode()\n",
    "\n",
    "        # find elements to the left of exploded pair into a flattened list.\n",
    "        if explode_pair is not None:\n",
    "            self.left_of(explode_pair)\n",
    "            self.right_of(explode_pair)\n",
    "            self.replace_sub_pair(explode_pair, 0)\n",
    "            return True\n",
    "        else:\n",
    "            return False\n",
    "\n",
    "    def _find_pair_to_explode(self, depth: int = 0) -> Optional[Pair]:\n",
    "        \"\"\"Returns left most pair to explode, or None if no pair needs exploding.\"\"\"\n",
    "        if isinstance(self.left, int) and isinstance(self.right, int) and depth > 3:\n",
    "            return self\n",
    "        else:\n",
    "            pair = None\n",
    "            if isinstance(self.left, Pair):\n",
    "                pair = self.left._find_pair_to_explode(depth=depth + 1)\n",
    "            if pair is None and isinstance(self.right, Pair):\n",
    "                pair = self.right._find_pair_to_explode(depth=depth + 1)\n",
    "            return pair\n",
    "\n",
    "    def split(self) -> bool:\n",
    "        \"\"\"\n",
    "        Splits left most pair with a number to split, and returns True if\n",
    "        we split or False if no pair needed splitting.\n",
    "        \"\"\"\n",
    "        if isinstance(self.left, int) and self.left >= 10:\n",
    "            new_pair = Pair(math.floor(self.left / 2), math.ceil(self.left / 2))\n",
    "            self.left = new_pair\n",
    "            return True\n",
    "        elif isinstance(self.right, int) and self.right > 10:\n",
    "            new_pair = Pair(math.floor(self.right / 2), math.ceil(self.right / 2))\n",
    "            self.right = new_pair\n",
    "            return True\n",
    "        else:\n",
    "            success: bool = False\n",
    "            if isinstance(self.left, Pair):\n",
    "                success = self.left.split()\n",
    "            if not success and isinstance(self.right, Pair):\n",
    "                success = self.right.split()\n",
    "            return success\n",
    "\n",
    "    def left_of(self, p: Pair) -> bool:\n",
    "        if (\n",
    "            isinstance(self.left, int)\n",
    "            and isinstance(self.right, Pair)\n",
    "            and self.right.is_left_most_pair(p)\n",
    "        ):\n",
    "            self.left = self.left + p.left\n",
    "            return True\n",
    "        elif self.right == p and isinstance(self.left, int):\n",
    "            self.left = self.left + p.left\n",
    "            return True\n",
    "        elif self.right == p and isinstance(self.left, Pair):\n",
    "            self.left.add_to_right_most_leaf(p.left)\n",
    "            return True\n",
    "        else:\n",
    "            return (self.left.left_of(p) if isinstance(self.left, Pair) else False) or (\n",
    "                self.right.left_of(p) if isinstance(self.right, Pair) else False\n",
    "            )\n",
    "\n",
    "    def right_of(self, p: Pair) -> bool:\n",
    "        if isinstance(self.right, int) and self.left == p:\n",
    "            self.right = self.right + p.right\n",
    "            return True\n",
    "        elif (\n",
    "            isinstance(self.right, int)\n",
    "            and isinstance(self.left, Pair)\n",
    "            and (self.left.is_right_most_pair(p))\n",
    "        ):\n",
    "            self.right = self.right + p.right\n",
    "            return True\n",
    "        elif (\n",
    "            isinstance(self.right, Pair)\n",
    "            and isinstance(self.left, Pair)\n",
    "            and (self.left == p or self.left.is_right_most_pair(p))\n",
    "        ):\n",
    "            self.right.add_to_left_most_leaf(p.right)\n",
    "            return True\n",
    "        else:\n",
    "            return (\n",
    "                self.left.right_of(p) if isinstance(self.left, Pair) else False\n",
    "            ) or (self.right.right_of(p) if isinstance(self.right, Pair) else False)\n",
    "\n",
    "    def add_to_right_most_leaf(self, x: int):\n",
    "        \"\"\"Adds x to right most integer leaf.\"\"\"\n",
    "        if isinstance(self.right, int):\n",
    "            self.right = self.right + x\n",
    "        else:\n",
    "            self.right.add_to_right_most_leaf(x)\n",
    "\n",
    "    def add_to_left_most_leaf(self, x: int):\n",
    "        \"\"\"Adds x to left most integer leaf.\"\"\"\n",
    "        if isinstance(self.left, int):\n",
    "            self.left = self.left + x\n",
    "        else:\n",
    "            self.left.add_to_left_most_leaf(x)\n",
    "\n",
    "    def is_left_most_pair(self, p: Pair) -> bool:\n",
    "        \"\"\"Is this pair the left most pair of the subtree?\"\"\"\n",
    "        if (\n",
    "            isinstance(self.left, Pair)\n",
    "            and isinstance(self.left.left, int)\n",
    "            and isinstance(self.left.right, int)\n",
    "            and self.left == p\n",
    "        ):\n",
    "            return True\n",
    "        elif isinstance(self.left, Pair):\n",
    "            return self.left.is_left_most_pair(p)\n",
    "        else:\n",
    "            return False\n",
    "\n",
    "    def is_right_most_pair(self, p: Pair) -> bool:\n",
    "        \"\"\"Is this pair the right most pair of the subtree?\"\"\"\n",
    "        if (\n",
    "            isinstance(self.right, Pair)\n",
    "            and isinstance(self.right.left, int)\n",
    "            and isinstance(self.right.right, int)\n",
    "            and self.right == p\n",
    "        ):\n",
    "            return True\n",
    "        elif isinstance(self.right, Pair):\n",
    "            return self.right.is_right_most_pair(p)\n",
    "        else:\n",
    "            return False\n",
    "\n",
    "    def replace_sub_pair(self, p: Pair, value: Union[Pair, int]) -> bool:\n",
    "        \"\"\"Replaces the Pair, p, with the value, v. Returns True on success and False on failure\"\"\"\n",
    "        if isinstance(self.left, Pair) and self.left == p:\n",
    "            self.left = value\n",
    "            return True\n",
    "        elif isinstance(self.right, Pair) and self.right == p:\n",
    "            self.right = value\n",
    "            return True\n",
    "        else:\n",
    "            success = (\n",
    "                self.left.replace_sub_pair(p, value)\n",
    "                if isinstance(self.left, Pair)\n",
    "                else False\n",
    "            )\n",
    "            success = (\n",
    "                success or self.right.replace_sub_pair(p, value)\n",
    "                if isinstance(self.right, Pair)\n",
    "                else False\n",
    "            )\n",
    "            return success\n",
    "    \n",
    "    def reduce(self, print_steps: bool = False):\n",
    "        \"\"\"reduces the number one step at a time.\"\"\"\n",
    "        while self.explode() or self.split():\n",
    "            if print_steps:\n",
    "                print(self)\n",
    " \n",
    "    def magnitude(self) -> int:\n",
    "        \"\"\"returns the magnitude of the snailfish number\"\"\"\n",
    "        if isinstance(self.left, int) and isinstance(self.right, int):\n",
    "            return 3 * self.left + 2 * self.right\n",
    "        elif isinstance(self.left, int):\n",
    "            return 3 * self.left + 2 * self.right.magnitude()\n",
    "        elif isinstance(self.right, int):\n",
    "            return 3 * self.left.magnitude() + 2 * self.right\n",
    "        else:\n",
    "            return 3 * self.left.magnitude() +  2 * self.right.magnitude()\n"
   ]
  },
  {
   "cell_type": "code",
   "execution_count": 3,
   "metadata": {},
   "outputs": [],
   "source": [
    "def parse_input(input_file:str) -> List[Pair]:\n",
    "    \"\"\"read snailfish number\"\"\"\n",
    "    pairs: list[Pair] = []\n",
    "    with open(input_file) as f:\n",
    "        for line in f:\n",
    "            if line.rstrip():\n",
    "                snail_fish_number = line.strip()\n",
    "                snail_fish_number = \"subp = \"+ snail_fish_number.replace('[', 'Pair(').replace(']', ')')\n",
    "\n",
    "                # I couldn't be bothered to write a parser for this one... \"do as I say, not as I do.\"\n",
    "                exec(snail_fish_number, globals())\n",
    "                pairs.append(globals().get('subp', None))\n",
    "    return pairs"
   ]
  },
  {
   "cell_type": "code",
   "execution_count": 4,
   "metadata": {},
   "outputs": [],
   "source": [
    "# Test Explosions\n",
    "test_1 = Pair(Pair(Pair(Pair(Pair(9,8),1),2),3),4) \n",
    "test_1.explode()\n",
    "assert str(test_1) == \"[[[[0,9],2],3],4]\"\n",
    "\n",
    "test_2 = Pair(7,Pair(6,Pair(5,Pair(4,Pair(3,2)))))\n",
    "test_2.explode()\n",
    "assert str(test_2) == \"[7,[6,[5,[7,0]]]]\"\n",
    "\n",
    "test_3 = Pair(Pair(6,Pair(5,Pair(4,Pair(3,2)))),1)\n",
    "test_3.explode()\n",
    "assert str(test_3) == \"[[6,[5,[7,0]]],3]\"\n",
    "\n",
    "test_4 = Pair(Pair(3,Pair(2,Pair(1,Pair(7,3)))),Pair(6,Pair(5,Pair(4,Pair(3,2)))))\n",
    "test_4.explode()\n",
    "assert str(test_4) == \"[[3,[2,[8,0]]],[9,[5,[4,[3,2]]]]]\"\n",
    "test_4.explode()\n",
    "assert str(test_4) == \"[[3,[2,[8,0]]],[9,[5,[7,0]]]]\""
   ]
  },
  {
   "cell_type": "code",
   "execution_count": 5,
   "metadata": {},
   "outputs": [],
   "source": [
    "p1_test = Pair(Pair(Pair(Pair(4,3),4),4),Pair(7,Pair(Pair(8,4),9)))\n",
    "p2_test = Pair(1,1)\n",
    "\n",
    "# test addition\n",
    "p3_test = p1_test + p2_test\n",
    "assert str(p3_test) == \"[[[[[4,3],4],4],[7,[[8,4],9]]],[1,1]]\"\n",
    "\n",
    "# test 2 explodes\n",
    "p3_test.explode()\n",
    "assert str(p3_test) == \"[[[[0,7],4],[7,[[8,4],9]]],[1,1]]\"\n",
    "\n",
    "p3_test.explode()\n",
    "assert str(p3_test) == \"[[[[0,7],4],[15,[0,13]]],[1,1]]\"\n",
    "\n",
    "p3_test.split()\n",
    "assert str(p3_test) == \"[[[[0,7],4],[[7,8],[0,13]]],[1,1]]\"\n",
    "\n",
    "p3_test.split()\n",
    "assert str(p3_test) == \"[[[[0,7],4],[[7,8],[0,[6,7]]]],[1,1]]\"\n",
    "\n",
    "p3_test.explode()\n",
    "assert str(p3_test) == \"[[[[0,7],4],[[7,8],[6,0]]],[8,1]]\""
   ]
  },
  {
   "cell_type": "code",
   "execution_count": 6,
   "metadata": {},
   "outputs": [],
   "source": [
    "p1_test = Pair(Pair(Pair(Pair(4,3),4),4),Pair(7,Pair(Pair(8,4),9)))\n",
    "p2_test = Pair(1,1)\n",
    "\n",
    "# test addition\n",
    "p3_test = p1_test + p2_test\n",
    "p3_test.reduce()\n",
    "assert str(p3_test) == \"[[[[0,7],4],[[7,8],[6,0]]],[8,1]]\""
   ]
  },
  {
   "cell_type": "code",
   "execution_count": 7,
   "metadata": {},
   "outputs": [],
   "source": [
    "# unit test magnitude\n",
    "assert Pair(9,1).magnitude() == 29\n",
    "assert Pair(1,9).magnitude() == 21\n",
    "assert Pair(Pair(9,1),Pair(1,9)).magnitude() == 129\n",
    "assert Pair(Pair(1,2),Pair(Pair(3,4),5)).magnitude() == 143\n",
    "assert Pair(Pair(Pair(Pair(8,7),Pair(7,7)),Pair(Pair(8,6),Pair(7,7))),Pair(Pair(Pair(0,7),Pair(6,6)),Pair(8,7))).magnitude() == 3488"
   ]
  },
  {
   "cell_type": "code",
   "execution_count": 8,
   "metadata": {},
   "outputs": [
    {
     "name": "stdout",
     "output_type": "stream",
     "text": [
      "[[[[0,6],[0,6]],[[7,0],[8,0]]],[[[9,7],[0,6]],[[0,10],[9,4]]]]\n"
     ]
    },
    {
     "data": {
      "text/plain": [
       "2608"
      ]
     },
     "execution_count": 8,
     "metadata": {},
     "output_type": "execute_result"
    }
   ],
   "source": [
    "pairs: list[Pair] = parse_input(test_input_location(day=18))\n",
    "snailfish_num = reduce(lambda a, b: a + b, pairs)\n",
    "snailfish_num.reduce()\n",
    "print(snailfish_num)\n",
    "snailfish_num.magnitude()  # the answer."
   ]
  },
  {
   "cell_type": "code",
   "execution_count": 9,
   "metadata": {},
   "outputs": [
    {
     "name": "stdout",
     "output_type": "stream",
     "text": [
      "[[[[1,0],[4,0]],[9,[1,0]]],[[[5,0],6],[[0,1],[0,0]]]]\n"
     ]
    },
    {
     "data": {
      "text/plain": [
       "861"
      ]
     },
     "execution_count": 9,
     "metadata": {},
     "output_type": "execute_result"
    }
   ],
   "source": [
    "pairs: list[Pair] = parse_input(input_location(day=18))\n",
    "snailfish_num = reduce(lambda a, b: a + b, pairs)\n",
    "snailfish_num.reduce()\n",
    "print(snailfish_num)\n",
    "snailfish_num.magnitude()  # the answer."
   ]
  },
  {
   "cell_type": "markdown",
   "metadata": {},
   "source": [
    "### Part 2"
   ]
  },
  {
   "cell_type": "code",
   "execution_count": null,
   "metadata": {},
   "outputs": [],
   "source": []
  }
 ],
 "metadata": {
  "interpreter": {
   "hash": "ae981610c82baf8dde312b9cabe619eb6b77f5b8e197b22f2a09a689406db354"
  },
  "kernelspec": {
   "display_name": "Python 3.10.0 64-bit ('venv': venv)",
   "language": "python",
   "name": "python3"
  },
  "language_info": {
   "codemirror_mode": {
    "name": "ipython",
    "version": 3
   },
   "file_extension": ".py",
   "mimetype": "text/x-python",
   "name": "python",
   "nbconvert_exporter": "python",
   "pygments_lexer": "ipython3",
   "version": "3.10.0"
  },
  "orig_nbformat": 4
 },
 "nbformat": 4,
 "nbformat_minor": 2
}
