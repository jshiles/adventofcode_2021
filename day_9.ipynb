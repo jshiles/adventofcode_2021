{
 "cells": [
  {
   "cell_type": "markdown",
   "metadata": {},
   "source": [
    "# Day 9: Smoke Basin\n",
    "https://adventofcode.com/2021/day/9"
   ]
  },
  {
   "cell_type": "code",
   "execution_count": 1,
   "metadata": {},
   "outputs": [],
   "source": [
    "import os\n",
    "from dataclasses import dataclass, field\n",
    "from functools import reduce\n",
    "from operator import itemgetter, mul\n",
    "from typing import Optional, List, Tuple"
   ]
  },
  {
   "cell_type": "markdown",
   "metadata": {},
   "source": [
    "## Part 1"
   ]
  },
  {
   "cell_type": "code",
   "execution_count": 2,
   "metadata": {},
   "outputs": [],
   "source": [
    "@dataclass(order=True, eq=True)\n",
    "class SeaFloorSpace():\n",
    "    row: int = field(default=0, compare=True)\n",
    "    col: int = field(default=0, compare=True)\n",
    "    height: int = field(default=0, compare=True)\n",
    "    low_point: bool = field(default=False, compare=False)\n",
    "\n",
    "class SeaFloor:\n",
    "    rows: list[list[SeaFloorSpace]] \n",
    "\n",
    "    def __init__(self, input_file:str):\n",
    "        self.rows = list()\n",
    "        with open(input_file) as f:\n",
    "            row = 0\n",
    "            for line in f:\n",
    "                if line.rstrip():\n",
    "                    self.rows.append([SeaFloorSpace(row, col, int(x)) for col, x in enumerate(line.strip())])\n",
    "                    row = row + 1\n",
    "\n",
    "    def get_seafloor(self, row_idx, col_idx) -> Optional[SeaFloorSpace]:\n",
    "        sf: Optional[SeaFloorSpace] = None\n",
    "        if 0 <= row_idx < len(self.rows) and 0 <= col_idx < len(self.rows[row_idx]):\n",
    "            sf = self.rows[row_idx][col_idx]\n",
    "        return sf\n",
    "\n",
    "    def find_low_points(self) -> None:\n",
    "        \"\"\"\n",
    "        Marks low points in this Sea Floor\n",
    "        \"\"\"\n",
    "        for row_idx, row in enumerate(self.rows):\n",
    "            for col_idx, col in enumerate(row):\n",
    "                is_low_point: bool = True\n",
    "                is_low_point &= (  # Test to the left.\n",
    "                    bool(row[col_idx].height < row[col_idx-1].height) \n",
    "                    if self.get_seafloor(row_idx, col_idx-1) \n",
    "                    else True\n",
    "                )\n",
    "                is_low_point &= (  # Test to the right.\n",
    "                    bool(row[col_idx].height < row[col_idx+1].height) \n",
    "                    if self.get_seafloor(row_idx, col_idx+1) \n",
    "                    else True\n",
    "                )\n",
    "                is_low_point &= (  # Test above.\n",
    "                    bool(row[col_idx].height < self.get_seafloor(row_idx-1, col_idx).height) \n",
    "                    if self.get_seafloor(row_idx-1, col_idx) \n",
    "                    else True\n",
    "                )\n",
    "                is_low_point &= (  # Test below.\n",
    "                    bool(row[col_idx].height < self.get_seafloor(row_idx+1, col_idx).height) \n",
    "                    if self.get_seafloor(row_idx+1, col_idx) \n",
    "                    else True\n",
    "                )\n",
    "                if is_low_point:\n",
    "                    self.rows[row_idx][col_idx].low_point = True\n",
    "    \n",
    "    def low_points(self) -> list:\n",
    "        \"\"\"\n",
    "        Returns List of tuples for low points.\n",
    "        Tuple(row_index, col_index, height)\n",
    "        \"\"\"\n",
    "        self.find_low_points()  # double check\n",
    "        return [\n",
    "            (ridx,cidx, seafloorspace.height)\n",
    "            for ridx, row in enumerate(self.rows)\n",
    "            for cidx, seafloorspace in enumerate(row)\n",
    "            if seafloorspace.low_point\n",
    "        ]\n",
    "\n",
    "    def risk_sum(self) -> int:\n",
    "        \"\"\"\n",
    "        Returns sum of risk (height + 1) for low points.\n",
    "        \"\"\"\n",
    "        self.find_low_points()  # double check\n",
    "        return sum([\n",
    "            seafloorspace.height + 1\n",
    "            for ridx, row in enumerate(self.rows)\n",
    "            for cidx, seafloorspace in enumerate(row)\n",
    "            if seafloorspace.low_point\n",
    "        ])\n",
    "\n",
    "    def __repr__(self) -> str:\n",
    "        value = \"\"\n",
    "        for row in self.rows:\n",
    "            value = value + \"\".join([str(col.height) for col in row]) + \"\\n\"\n",
    "        return value\n",
    "    \n",
    "    def basin_size_explore_recrusive(\n",
    "        self, \n",
    "        row_idx:int, \n",
    "        col_idx:int, \n",
    "        basin_members:Optional[List[SeaFloorSpace]] = None\n",
    "    ) -> int:\n",
    "        \"\"\"\n",
    "        Recursive walk of the adjacent spaces not already placed into the Basin\n",
    "        Parameters\n",
    "            row_idx: <int> row index of \"rows\" where to search\n",
    "            row_idx: <int> col index of \"rows\" where to search\n",
    "            basin_members: is a list of Spaces already in the Basin to avoid\n",
    "                infinite loops when exploring the space.\n",
    "        Returns\n",
    "            <int> Basin Size        \n",
    "        \"\"\"\n",
    "\n",
    "        if basin_members is None:\n",
    "            basin_members = list()\n",
    "\n",
    "        if (not self.get_seafloor(row_idx, col_idx) \n",
    "            or self.get_seafloor(row_idx, col_idx).height == 9\n",
    "            or self.get_seafloor(row_idx, col_idx) in basin_members\n",
    "        ):\n",
    "            # print(f\"Reject ({row_idx}, {col_idx})\")\n",
    "            return 0\n",
    "        else:\n",
    "            basin_members.append(self.get_seafloor(row_idx, col_idx))\n",
    "            # print(f\"Add ({row_idx}, {col_idx})\")\n",
    "            return 1\\\n",
    "                + self.basin_size_explore_recrusive(row_idx-1, col_idx, basin_members)\\\n",
    "                + self.basin_size_explore_recrusive(row_idx+1, col_idx, basin_members)\\\n",
    "                + self.basin_size_explore_recrusive(row_idx, col_idx-1, basin_members)\\\n",
    "                + self.basin_size_explore_recrusive(row_idx, col_idx+1, basin_members)\n",
    "\n",
    "    def largest_n_basins(self, n: int = 3) -> List[Tuple[int, int, int]]:\n",
    "        \"\"\"\n",
    "        Returns a tuple of the N largest basins.\n",
    "        Returns\n",
    "            Tuple(low_point_row_index, low_point_col_index, size)\n",
    "        \"\"\"\n",
    "        self.find_low_points()  # double check\n",
    "        basins: List[Tuple[int, int, int]] = list()\n",
    "        for ridx, cidx, _ in self.low_points():\n",
    "            basin_size = self.basin_size_explore_recrusive(ridx, cidx)\n",
    "            basins.append((ridx, cidx, basin_size))\n",
    "        \n",
    "        if n > len(basins):\n",
    "            n = len(basins)\n",
    "\n",
    "        return sorted(basins,key=itemgetter(2))[-1*n:]\n",
    "\n",
    "# input data.\n",
    "def test_input_location(\n",
    "    file_loc: str = 'test_input.txt', \n",
    "    data_directory: str  = 'data/day_9'\n",
    ") -> str:\n",
    "    return os.path.join(data_directory, file_loc)\n",
    "\n",
    "def input_location(\n",
    "    file_loc: str = 'input.txt', \n",
    "    data_directory: str  = 'data/day_9'\n",
    ") -> str:\n",
    "    return os.path.join(data_directory, file_loc)"
   ]
  },
  {
   "cell_type": "code",
   "execution_count": 3,
   "metadata": {},
   "outputs": [
    {
     "data": {
      "text/plain": [
       "2199943210\n",
       "3987894921\n",
       "9856789892\n",
       "8767896789\n",
       "9899965678"
      ]
     },
     "execution_count": 3,
     "metadata": {},
     "output_type": "execute_result"
    }
   ],
   "source": [
    "board = SeaFloor(test_input_location())\n",
    "board.find_low_points()\n",
    "assert board.risk_sum() == 15\n",
    "board"
   ]
  },
  {
   "cell_type": "code",
   "execution_count": 4,
   "metadata": {},
   "outputs": [
    {
     "data": {
      "text/plain": [
       "516"
      ]
     },
     "execution_count": 4,
     "metadata": {},
     "output_type": "execute_result"
    }
   ],
   "source": [
    "real_board = SeaFloor(input_location())\n",
    "real_board.find_low_points()\n",
    "real_board.risk_sum()"
   ]
  },
  {
   "cell_type": "markdown",
   "metadata": {},
   "source": [
    "## Part 2"
   ]
  },
  {
   "cell_type": "code",
   "execution_count": 5,
   "metadata": {},
   "outputs": [
    {
     "data": {
      "text/plain": [
       "[(0, 1, 1), (0, 9, 0), (2, 2, 5), (4, 6, 5)]"
      ]
     },
     "execution_count": 5,
     "metadata": {},
     "output_type": "execute_result"
    }
   ],
   "source": [
    "board.low_points()"
   ]
  },
  {
   "cell_type": "code",
   "execution_count": 6,
   "metadata": {},
   "outputs": [],
   "source": [
    "assert board.basin_size_explore_recrusive(0, 1) == 3\n",
    "assert board.basin_size_explore_recrusive(0, 9) == 9\n",
    "assert board.basin_size_explore_recrusive(2, 2) == 14\n",
    "assert board.basin_size_explore_recrusive(4, 6) == 9\n",
    "assert reduce(mul, [b[2] for b in board.largest_n_basins(n=3)]) == 1134"
   ]
  },
  {
   "cell_type": "code",
   "execution_count": 7,
   "metadata": {},
   "outputs": [
    {
     "data": {
      "text/plain": [
       "1023660"
      ]
     },
     "execution_count": 7,
     "metadata": {},
     "output_type": "execute_result"
    }
   ],
   "source": [
    "reduce(mul, [b[2] for b in real_board.largest_n_basins(n=3)])"
   ]
  },
  {
   "cell_type": "code",
   "execution_count": null,
   "metadata": {},
   "outputs": [],
   "source": []
  }
 ],
 "metadata": {
  "interpreter": {
   "hash": "ae981610c82baf8dde312b9cabe619eb6b77f5b8e197b22f2a09a689406db354"
  },
  "kernelspec": {
   "display_name": "Python 3.10.0 64-bit ('venv': venv)",
   "language": "python",
   "name": "python3"
  },
  "language_info": {
   "codemirror_mode": {
    "name": "ipython",
    "version": 3
   },
   "file_extension": ".py",
   "mimetype": "text/x-python",
   "name": "python",
   "nbconvert_exporter": "python",
   "pygments_lexer": "ipython3",
   "version": "3.10.0"
  },
  "orig_nbformat": 4
 },
 "nbformat": 4,
 "nbformat_minor": 2
}
