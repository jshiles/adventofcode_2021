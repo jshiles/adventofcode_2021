{
 "cells": [
  {
   "cell_type": "markdown",
   "metadata": {},
   "source": [
    "# Day 11: Dumbo Octopus\n",
    "https://adventofcode.com/2021/day/11"
   ]
  },
  {
   "cell_type": "markdown",
   "metadata": {},
   "source": [
    "### Part 1\n",
    "Count the Flashes from the energy Octopuses after 100 rounds."
   ]
  },
  {
   "cell_type": "code",
   "execution_count": 1,
   "metadata": {},
   "outputs": [],
   "source": [
    "import os\n",
    "from dataclasses import dataclass, field\n",
    "from typing import Tuple\n"
   ]
  },
  {
   "cell_type": "code",
   "execution_count": 2,
   "metadata": {},
   "outputs": [],
   "source": [
    "# input data.\n",
    "def test_input_location(\n",
    "    file_loc: str = 'test_input.txt', \n",
    "    data_directory: str  = 'data/day_11'\n",
    ") -> str:\n",
    "    return os.path.join(data_directory, file_loc)\n",
    "\n",
    "def input_location(\n",
    "    file_loc: str = 'input.txt', \n",
    "    data_directory: str  = 'data/day_11'\n",
    ") -> str:\n",
    "    return os.path.join(data_directory, file_loc)\n"
   ]
  },
  {
   "cell_type": "code",
   "execution_count": 3,
   "metadata": {},
   "outputs": [],
   "source": [
    "@dataclass(order=True, eq=True) \n",
    "class Octopus:\n",
    "    row: int = field(default=0, compare=True)\n",
    "    col: int = field(default=0, compare=True)\n",
    "    engergy_level: int = field(default=0, compare=False)\n",
    "    flashed_this_round: bool = field(default=False, compare=False, repr=False)\n",
    "\n",
    "    def increment_energy(self) -> bool:\n",
    "        \"\"\"\n",
    "        Increments energy level by 1.  If energy level reaches >9, it will flash (and return True).\n",
    "        If it already flashed this round, it will not flash again, and its energy will be zero.\n",
    "        \"\"\"\n",
    "        new_flash = False \n",
    "\n",
    "        if not self.flashed_this_round and self.engergy_level < 9:\n",
    "            self.engergy_level = self.engergy_level + 1\n",
    "        elif not self.flashed_this_round and self.engergy_level >= 9:\n",
    "            self.flashed_this_round = True \n",
    "            self.engergy_level = 0\n",
    "            new_flash = True\n",
    "        \n",
    "        return new_flash\n",
    "\n",
    "\n",
    "class Cave:\n",
    "    grid: list[list[Octopus]]\n",
    "\n",
    "    def __init__(self, input_file:str):\n",
    "        self.grid = list()\n",
    "\n",
    "        if os.path.exists(input_file):\n",
    "            with open(input_file) as f:    \n",
    "                for row, line in enumerate(f):\n",
    "                    if line.rstrip():\n",
    "                        octopuses: list[Octopus] = list()\n",
    "                        for col, initial_energy in enumerate(line.strip()):\n",
    "                            octopuses.append(Octopus(row, col, int(initial_energy)))\n",
    "                        self.grid.append(octopuses)\n",
    "\n",
    "    def __repr__(self) -> str:\n",
    "        grid = \"\"\n",
    "        for ridx, row in enumerate(self.grid):\n",
    "            grid = grid + \"\".join([str(col.engergy_level) for cidx, col in enumerate(row)]) + \"\\n\"\n",
    "        return grid\n",
    "\n",
    "    def increment_energy_level_at(self, row:int, col:int) -> bool:\n",
    "        \"\"\"\n",
    "        Increments the engery of the Octopus at this grid space (row, col).\n",
    "        Returns True if we just learned that the Octopus will flash, meaning\n",
    "        repeated calls will not let him flash again and will return False.\n",
    "        \"\"\"\n",
    "        if 0 <= row < len(self.grid) and 0 <= col < len(self.grid[row]):\n",
    "            return self.grid[row][col].increment_energy()\n",
    "\n",
    "    def num_octopuses(self) -> int:\n",
    "        \"\"\"\n",
    "        Returns a count of the grid size.\n",
    "        \"\"\"\n",
    "        octopuses = 0\n",
    "        for ridx, row in enumerate(self.grid):\n",
    "            for cidx, col in enumerate(row):\n",
    "                octopuses += 1\n",
    "        return octopuses\n",
    "\n",
    "    def reset_flashes(self) -> None:\n",
    "        \"\"\"\n",
    "        Resets all Octopuses to the non-Flashed state.  A sort of internal cleanup\n",
    "        between rounds.\n",
    "        \"\"\"\n",
    "        for ridx, row in enumerate(self.grid):\n",
    "            for cidx, col in enumerate(row):\n",
    "                col.flashed_this_round = False\n",
    "\n",
    "    def step(self) -> Tuple[int, bool]:\n",
    "        \"\"\"\n",
    "        The all important step function that runs this logic.\n",
    "        Returns \n",
    "            <int> count of the flashes this round\n",
    "            <bool> if all Octopuses flashed this round.\n",
    "        \"\"\"\n",
    "\n",
    "        step_flashes = 0\n",
    "        flashes: list[Octopus] = []\n",
    "\n",
    "        # we start by incrementing everyone by one.\n",
    "        for ridx, row in enumerate(self.grid):\n",
    "            for cidx, col in enumerate(row):\n",
    "                flash_happened = self.increment_energy_level_at(ridx, cidx)\n",
    "                if flash_happened:\n",
    "                    flashes.append(self.grid[ridx][cidx])\n",
    "                    step_flashes = step_flashes + 1\n",
    "\n",
    "        # we increment the adjacent Octopuses to flashing Octopuses.\n",
    "        # we continue this until there are no new flashes to account for.\n",
    "        while flashes:\n",
    "            new_flashes: list[Octopus] = []\n",
    "            for octopus in flashes:\n",
    "                for adj_row in range(octopus.row-1, octopus.row+2):\n",
    "                    for adj_col in range(octopus.col-1, octopus.col+2):\n",
    "                        if 0 <= adj_row < len(self.grid) and 0 <= adj_col < len(self.grid[adj_row]):\n",
    "                            flash_happened = self.increment_energy_level_at(adj_row, adj_col)\n",
    "                            if flash_happened:\n",
    "                                new_flashes.append(self.grid[adj_row][adj_col])\n",
    "                                step_flashes = step_flashes + 1\n",
    "\n",
    "            # reset newly flashed octopuses because we've dealt with existing\n",
    "            flashes = new_flashes\n",
    "\n",
    "        all_flashed = False\n",
    "        if step_flashes == self.num_octopuses():\n",
    "            all_flashed = True\n",
    "\n",
    "        # reset for the next go\n",
    "        self.reset_flashes()\n",
    "\n",
    "        return step_flashes, all_flashed\n"
   ]
  },
  {
   "cell_type": "code",
   "execution_count": 4,
   "metadata": {},
   "outputs": [
    {
     "name": "stdout",
     "output_type": "stream",
     "text": [
      "Octopus(row=1, col=1, engergy_level=9)\n",
      "Octopus(row=1, col=1, engergy_level=0)\n"
     ]
    }
   ],
   "source": [
    "# Unit test the Octopus class.\n",
    "\n",
    "# initial increase should not cause a flash.\n",
    "o1 = Octopus(1,1, 8)\n",
    "o1.increment_energy()\n",
    "assert o1.engergy_level == 9\n",
    "assert o1.flashed_this_round == False\n",
    "print(o1)\n",
    "\n",
    "# initial increment should cause a flash.\n",
    "o2 = Octopus(1,1, 9)\n",
    "o2.increment_energy()\n",
    "assert o2.flashed_this_round == True\n",
    "\n",
    "# additional energy boosts should not increment more or flash more.\n",
    "o2.increment_energy()\n",
    "o2.increment_energy()\n",
    "assert o2.engergy_level == 0\n",
    "assert o2.flashed_this_round == True\n",
    "print(o2)"
   ]
  },
  {
   "cell_type": "code",
   "execution_count": 5,
   "metadata": {},
   "outputs": [],
   "source": [
    "c = Cave(test_input_location())\n",
    "flashes = 0\n",
    "for _ in range(100):\n",
    "    new_flashes, _ = c.step()\n",
    "    flashes += new_flashes\n",
    "assert flashes == 1656"
   ]
  },
  {
   "cell_type": "code",
   "execution_count": 6,
   "metadata": {},
   "outputs": [
    {
     "data": {
      "text/plain": [
       "1588"
      ]
     },
     "execution_count": 6,
     "metadata": {},
     "output_type": "execute_result"
    }
   ],
   "source": [
    "c_live = Cave(input_location())\n",
    "flashes = 0\n",
    "for _ in range(100):\n",
    "    new_flashes, _ = c_live.step()\n",
    "    flashes += new_flashes\n",
    "flashes"
   ]
  },
  {
   "cell_type": "markdown",
   "metadata": {},
   "source": [
    "### Part 2\n",
    "At what step do they all flash at the same time?"
   ]
  },
  {
   "cell_type": "code",
   "execution_count": 7,
   "metadata": {},
   "outputs": [
    {
     "data": {
      "text/plain": [
       "517"
      ]
     },
     "execution_count": 7,
     "metadata": {},
     "output_type": "execute_result"
    }
   ],
   "source": [
    "c_live = Cave(input_location())\n",
    "steps = 0\n",
    "while True:\n",
    "    steps += 1\n",
    "    _, all = c_live.step()\n",
    "    if all:\n",
    "        break\n",
    "steps"
   ]
  },
  {
   "cell_type": "code",
   "execution_count": null,
   "metadata": {},
   "outputs": [],
   "source": []
  }
 ],
 "metadata": {
  "interpreter": {
   "hash": "ae981610c82baf8dde312b9cabe619eb6b77f5b8e197b22f2a09a689406db354"
  },
  "kernelspec": {
   "display_name": "Python 3.10.0 64-bit ('venv': venv)",
   "language": "python",
   "name": "python3"
  },
  "language_info": {
   "codemirror_mode": {
    "name": "ipython",
    "version": 3
   },
   "file_extension": ".py",
   "mimetype": "text/x-python",
   "name": "python",
   "nbconvert_exporter": "python",
   "pygments_lexer": "ipython3",
   "version": "3.10.0"
  },
  "orig_nbformat": 4
 },
 "nbformat": 4,
 "nbformat_minor": 2
}
