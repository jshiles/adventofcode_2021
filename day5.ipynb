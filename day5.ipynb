{
 "cells": [
  {
   "cell_type": "markdown",
   "metadata": {},
   "source": [
    "# Day 5: Hydrothermal Venture\n",
    "https://adventofcode.com/2021/day/5"
   ]
  },
  {
   "cell_type": "code",
   "execution_count": 1,
   "metadata": {},
   "outputs": [],
   "source": [
    "import os\n",
    "from collections import Counter\n",
    "from dataclasses import dataclass"
   ]
  },
  {
   "cell_type": "markdown",
   "metadata": {},
   "source": [
    "## Part 1\n",
    "Find points where 2 or more lines intersect.  Consider only vertical and horizontal lines, meaning skip diagonal lines\n",
    "\n",
    "Input looks like, \n",
    "```\n",
    "0,9 -> 5,9\n",
    "8,0 -> 0,8\n",
    "9,4 -> 3,4\n",
    "2,2 -> 2,1\n",
    "```"
   ]
  },
  {
   "cell_type": "code",
   "execution_count": 2,
   "metadata": {},
   "outputs": [],
   "source": [
    "@dataclass(frozen = True, eq = True, order=True)\n",
    "class Point:\n",
    "    x: int\n",
    "    y: int\n",
    "\n",
    "def calculate_slope(p1: Point, p2: Point) -> float:\n",
    "    # rise over run\n",
    "    return (p2.y - p1.y) / (p2.x - p1.x)\n",
    "\n",
    "def calculate_intercept(p1: Point, p2: Point) -> int:\n",
    "    slope: float = calculate_slope(p1, p2)\n",
    "    intercept: int = round(p1.y - (slope * p1.x))\n",
    "    return intercept\n",
    "\n",
    "def interpolate_points(p1: Point, p2: Point) -> list[Point]:\n",
    "    points: list[Point] = [p1, p2]\n",
    "    \n",
    "    if p1.x == p2.x:\n",
    "        for y in range(p1.y, p2.y, 1 if p1.y < p2.y else -1):\n",
    "            points.append(Point(p1.x, y))\n",
    "    else:\n",
    "        slope: float = calculate_slope(p1, p2)\n",
    "        intercept: int = calculate_intercept(p1, p2)\n",
    "\n",
    "        for x in range(p1.x, p2.x, 1 if p1.x < p2.x else -1):\n",
    "            y: int = round((slope * x) + intercept)\n",
    "            points.append(Point(x, y))\n",
    "\n",
    "    return list(set(points))\n",
    "\n",
    "# input data.\n",
    "def test_input_location(\n",
    "    file_loc: str = 'test_input.txt', \n",
    "    data_directory: str  = 'data/day_5'\n",
    ") -> str:\n",
    "    return os.path.join(data_directory, file_loc)\n",
    "\n",
    "def input_location(\n",
    "    file_loc: str = 'input.txt', \n",
    "    data_directory: str  = 'data/day_5'\n",
    ") -> str:\n",
    "    return os.path.join(data_directory, file_loc)"
   ]
  },
  {
   "cell_type": "code",
   "execution_count": 3,
   "metadata": {},
   "outputs": [],
   "source": [
    "def read_input_data(input_file: str, non_diagonal_only=True) -> list[Point]:\n",
    "    points: list[Point] = []\n",
    "\n",
    "    with open(input_file) as f:\n",
    "        for line in f:\n",
    "            if line.rstrip():\n",
    "                point1_txt, point2_txt = line.rstrip().split(\" -> \")\n",
    "                p1_x, p1_y = point1_txt.split(\",\")\n",
    "                p2_x, p2_y = point2_txt.split(\",\")\n",
    "\n",
    "                p1: Point = Point(int(p1_x), int(p1_y))\n",
    "                p2: Point = Point(int(p2_x), int(p2_y))\n",
    "\n",
    "                # part 1 asks us to ignore non-vertical or non-horizontal lines.\n",
    "                if not non_diagonal_only or p1.x == p2.x or p1.y == p2.y:\n",
    "                    points = points + interpolate_points(p1, p2)\n",
    "    \n",
    "    return points\n",
    "\n",
    "# test with sample data from the example.\n",
    "points: list[Point] = read_input_data(test_input_location())\n",
    "c = Counter(points)\n",
    "assert len([v for v in dict(c).values() if int(v) >= 2]) == 5"
   ]
  },
  {
   "cell_type": "code",
   "execution_count": 4,
   "metadata": {},
   "outputs": [
    {
     "data": {
      "text/plain": [
       "5145"
      ]
     },
     "execution_count": 4,
     "metadata": {},
     "output_type": "execute_result"
    }
   ],
   "source": [
    "# Answe the question\n",
    "points: list[Point] = read_input_data(input_location())\n",
    "c = Counter(points)\n",
    "len([v for v in dict(c).values() if int(v) >= 2])"
   ]
  },
  {
   "cell_type": "markdown",
   "metadata": {},
   "source": [
    "## Part 2\n",
    "Find points where 2 or more lines intersect.  Consider more than vertical and horizontal.\n",
    "\n",
    "Input looks like, \n",
    "```\n",
    "0,9 -> 5,9\n",
    "8,0 -> 0,8\n",
    "9,4 -> 3,4\n",
    "2,2 -> 2,1\n",
    "```"
   ]
  },
  {
   "cell_type": "code",
   "execution_count": 5,
   "metadata": {},
   "outputs": [],
   "source": [
    "# test with sample data from the example.\n",
    "points: list[Point] = read_input_data(test_input_location(), non_diagonal_only=False)\n",
    "c = Counter(points)\n",
    "assert len([v for v in dict(c).values() if int(v) >= 2]) == 12"
   ]
  },
  {
   "cell_type": "code",
   "execution_count": 6,
   "metadata": {},
   "outputs": [
    {
     "data": {
      "text/plain": [
       "16518"
      ]
     },
     "execution_count": 6,
     "metadata": {},
     "output_type": "execute_result"
    }
   ],
   "source": [
    "# Answe the question\n",
    "points: list[Point] = read_input_data(input_location(), non_diagonal_only=False)\n",
    "c = Counter(points)\n",
    "len([v for v in dict(c).values() if int(v) >= 2])"
   ]
  },
  {
   "cell_type": "code",
   "execution_count": null,
   "metadata": {},
   "outputs": [],
   "source": []
  }
 ],
 "metadata": {
  "interpreter": {
   "hash": "ae981610c82baf8dde312b9cabe619eb6b77f5b8e197b22f2a09a689406db354"
  },
  "kernelspec": {
   "display_name": "Python 3.10.0 64-bit ('venv': venv)",
   "language": "python",
   "name": "python3"
  },
  "language_info": {
   "codemirror_mode": {
    "name": "ipython",
    "version": 3
   },
   "file_extension": ".py",
   "mimetype": "text/x-python",
   "name": "python",
   "nbconvert_exporter": "python",
   "pygments_lexer": "ipython3",
   "version": "3.10.0"
  },
  "orig_nbformat": 4
 },
 "nbformat": 4,
 "nbformat_minor": 2
}
