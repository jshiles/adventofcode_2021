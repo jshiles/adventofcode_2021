{
 "cells": [
  {
   "cell_type": "markdown",
   "metadata": {},
   "source": [
    "# Day 21: Dirac Dice\n",
    "https://adventofcode.com/2021/day/21"
   ]
  },
  {
   "cell_type": "markdown",
   "metadata": {},
   "source": [
    "### Part 1: Play a practice game with deterministic die."
   ]
  },
  {
   "cell_type": "markdown",
   "metadata": {},
   "source": [
    "The modules can be found [here](advent_of_code/day_21.py)."
   ]
  },
  {
   "cell_type": "code",
   "execution_count": 1,
   "metadata": {},
   "outputs": [],
   "source": [
    "import functools\n",
    "import itertools\n",
    "from typing import Tuple\n",
    "from advent_of_code.day_21 import DeterministicDie, Player\n",
    "\n",
    "%load_ext blackcellmagic\n",
    "%load_ext autoreload\n",
    "%autoreload 2"
   ]
  },
  {
   "cell_type": "code",
   "execution_count": 2,
   "metadata": {},
   "outputs": [],
   "source": [
    "# run their sample test\n",
    "player_1 = Player(4)\n",
    "player_2 = Player(8)\n",
    "determinstic_die = DeterministicDie()\n",
    "\n",
    "while not player_1.won_game() or not player_2.won_game():\n",
    "    player_1.move(\n",
    "        determinstic_die.roll() + determinstic_die.roll() + determinstic_die.roll()\n",
    "    )\n",
    "    if player_1.won_game():\n",
    "        break\n",
    "    player_2.move(\n",
    "        determinstic_die.roll() + determinstic_die.roll() + determinstic_die.roll()\n",
    "    )\n",
    "\n",
    "assert player_2.score == 745\n",
    "assert determinstic_die.roll_count == 993\n",
    "assert player_2.score * determinstic_die.roll_count == 739785"
   ]
  },
  {
   "cell_type": "code",
   "execution_count": 8,
   "metadata": {},
   "outputs": [],
   "source": [
    "# Player 1 starting position: 7\n",
    "# Player 2 starting position: 9\n",
    "\n",
    "player_1 = Player(7)\n",
    "player_2 = Player(9)\n",
    "determinstic_die = DeterministicDie()\n",
    "\n",
    "while not player_1.won_game() or not player_2.won_game():\n",
    "    player_1.move(\n",
    "        determinstic_die.roll() + determinstic_die.roll() + determinstic_die.roll()\n",
    "    )\n",
    "    if player_1.won_game():\n",
    "        break\n",
    "    player_2.move(\n",
    "        determinstic_die.roll() + determinstic_die.roll() + determinstic_die.roll()\n",
    "    )\n",
    "player_2.score * determinstic_die.roll_count"
   ]
  },
  {
   "cell_type": "markdown",
   "metadata": {},
   "source": [
    "### Part 2: Dirac dice\n",
    "Out of it falls a single three-sided die. ... An informational brochure in the compartment explains that this is a quantum die: when you roll it, the universe splits into multiple copies, one copy for each possible outcome of the die. In this case, rolling the die always splits the universe into three copies: one where the outcome of the roll was 1, one where it was 2, and one where it was 3.\n",
    "\n",
    "The game is played the same as before, although to prevent things from getting too far out of hand, the game now ends when either player's score reaches at least 21."
   ]
  },
  {
   "cell_type": "code",
   "execution_count": 4,
   "metadata": {},
   "outputs": [],
   "source": [
    "# Using the same starting positions as in the example above, \n",
    "# player 1 wins in 444356092776315 universes, while player 2 \n",
    "# merely wins in 341960390180808 universes.\n",
    "\n",
    "@functools.lru_cache(maxsize=None)\n",
    "def simulate_game(p1: Player, p2: Player) -> Tuple[int, int]:\n",
    "    \"\"\"\n",
    "    Simulates a crazy quantum game where each roll copies itself.\n",
    "    Returns Tuple<int, int> with wins of p1 and wins of p2.\n",
    "    \"\"\"\n",
    "    p1_wins: int = 0\n",
    "    p2_wins: int = 0\n",
    "\n",
    "    for d1, d2, d3 in itertools.product((1,2,3), (1,2,3), (1,2,3)):\n",
    "        p1_copy = Player(**p1.__dict__)\n",
    "        p1_copy.move(d1+d2+d3)\n",
    "        if p1_copy.won_game(max_score=21):\n",
    "            p1_wins += 1\n",
    "        else:\n",
    "            p2_wins_copy, p1_wins_copy = simulate_game(p2, p1_copy)\n",
    "            p1_wins += p1_wins_copy\n",
    "            p2_wins += p2_wins_copy\n",
    "\n",
    "    return p1_wins, p2_wins\n"
   ]
  },
  {
   "cell_type": "code",
   "execution_count": 6,
   "metadata": {},
   "outputs": [],
   "source": [
    "# Test function using the sample they provided.\n",
    "player_1 = Player(4)\n",
    "player_2 = Player(8)\n",
    "assert simulate_game(player_1,player_2) == (444356092776315, 341960390180808)"
   ]
  },
  {
   "cell_type": "code",
   "execution_count": 7,
   "metadata": {},
   "outputs": [
    {
     "data": {
      "text/plain": [
       "(433315766324816, 353242407657025)"
      ]
     },
     "execution_count": 7,
     "metadata": {},
     "output_type": "execute_result"
    }
   ],
   "source": [
    "# Player 1 starting position: 7\n",
    "# Player 2 starting position: 9\n",
    "\n",
    "player_1 = Player(7)\n",
    "player_2 = Player(9)\n",
    "simulate_game(player_1,player_2)"
   ]
  },
  {
   "cell_type": "markdown",
   "metadata": {},
   "source": [
    "Player 1 wins the most.  433315766324816"
   ]
  },
  {
   "cell_type": "markdown",
   "metadata": {},
   "source": []
  }
 ],
 "metadata": {
  "interpreter": {
   "hash": "ae981610c82baf8dde312b9cabe619eb6b77f5b8e197b22f2a09a689406db354"
  },
  "kernelspec": {
   "display_name": "Python 3.10.0 64-bit ('venv': venv)",
   "language": "python",
   "name": "python3"
  },
  "language_info": {
   "codemirror_mode": {
    "name": "ipython",
    "version": 3
   },
   "file_extension": ".py",
   "mimetype": "text/x-python",
   "name": "python",
   "nbconvert_exporter": "python",
   "pygments_lexer": "ipython3",
   "version": "3.10.0"
  },
  "orig_nbformat": 4
 },
 "nbformat": 4,
 "nbformat_minor": 2
}
