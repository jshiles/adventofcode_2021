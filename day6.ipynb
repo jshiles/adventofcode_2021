{
 "cells": [
  {
   "cell_type": "markdown",
   "metadata": {},
   "source": [
    "# Day 6: Lanternfish\n",
    "https://adventofcode.com/2021/day/6"
   ]
  },
  {
   "cell_type": "code",
   "execution_count": 1,
   "metadata": {},
   "outputs": [],
   "source": [
    "import numpy as np\n",
    "import os\n",
    "from typing import Optional\n",
    "from sklearn import datasets, linear_model\n",
    "import matplotlib.pyplot as plt\n",
    "from collections import Counter"
   ]
  },
  {
   "cell_type": "code",
   "execution_count": 2,
   "metadata": {},
   "outputs": [],
   "source": [
    "class LanternFish:\n",
    "    \"\"\"\n",
    "    Each day we decrease the counter by 1.\n",
    "    When the counter goes below 0, we\n",
    "       - spawn a new fish with counter = 8\n",
    "       - reset this fish to counter 6\n",
    "    \"\"\"\n",
    "\n",
    "    counter:int \n",
    "\n",
    "    def __init__(self, init_counter:int = 8):\n",
    "        self.counter = init_counter\n",
    "    \n",
    "    def day_older(self):  #  -> Optional[LanternFish]:\n",
    "        baby: LanternFish = None\n",
    "        if self.counter == 0:\n",
    "            self.counter = 6\n",
    "            baby = LanternFish()\n",
    "        else:\n",
    "            self.counter = self.counter - 1\n",
    "\n",
    "        return baby\n",
    "\n",
    "class School:\n",
    "    \"\"\"\n",
    "    A collection of LanternFish\n",
    "    \"\"\"\n",
    "    fish: list[LanternFish]\n",
    "\n",
    "    def __init__(self, school_init: list[int]):\n",
    "        self.fish = []\n",
    "        for counter in school_init:\n",
    "            new_fish = LanternFish(init_counter=counter)\n",
    "            self.fish.append(new_fish)\n",
    "    \n",
    "    def day(self) -> None:\n",
    "        babies: list[LanternFish] = []\n",
    "        for fish in self.fish:\n",
    "            baby = fish.day_older()\n",
    "            if baby is not None:\n",
    "                babies.append(baby)\n",
    "        self.fish = self.fish + babies\n",
    "\n",
    "    def count_fish(self) -> int:\n",
    "        return len(self.fish)\n"
   ]
  },
  {
   "cell_type": "code",
   "execution_count": 3,
   "metadata": {},
   "outputs": [],
   "source": [
    "# input data.\n",
    "def test_input_location(\n",
    "    file_loc: str = 'test_input.txt', \n",
    "    data_directory: str  = 'data/day_6'\n",
    ") -> str:\n",
    "    return os.path.join(data_directory, file_loc)\n",
    "\n",
    "def input_location(\n",
    "    file_loc: str = 'input.txt', \n",
    "    data_directory: str  = 'data/day_6'\n",
    ") -> str:\n",
    "    return os.path.join(data_directory, file_loc)\n",
    "\n",
    "def read_input(input_file:str) -> list[int]:\n",
    "    initial_state: list[int] = []\n",
    "    with open(input_file) as f:\n",
    "        for line in f:\n",
    "            if line.rstrip():\n",
    "                initial_state = initial_state + list([int(x) for x in line.split(\",\")])\n",
    "    return initial_state\n"
   ]
  },
  {
   "cell_type": "code",
   "execution_count": 4,
   "metadata": {},
   "outputs": [],
   "source": [
    "# Test using example data.\n",
    "\n",
    "fish: list[int] = read_input(test_input_location())\n",
    "school: School = School(school_init=fish)\n",
    "for day in range(1, 81):\n",
    "    school.day()\n",
    "    if day == 18:\n",
    "        assert school.count_fish() == 26\n",
    "    if day == 80:\n",
    "        assert school.count_fish() == 5934"
   ]
  },
  {
   "cell_type": "code",
   "execution_count": 5,
   "metadata": {},
   "outputs": [
    {
     "data": {
      "text/plain": [
       "352872"
      ]
     },
     "execution_count": 5,
     "metadata": {},
     "output_type": "execute_result"
    }
   ],
   "source": [
    "# answer the question\n",
    "fish: list[int] = read_input(input_location())\n",
    "school: School = School(school_init=fish)\n",
    "for day in range(1, 81):\n",
    "    school.day()\n",
    "school.count_fish()"
   ]
  },
  {
   "cell_type": "markdown",
   "metadata": {},
   "source": [
    "## Part 2 - 256 Days.\n",
    "\n",
    "256 days is a lot of growth.  From 80 to 256, we see growth for the small sample data of 5934 to 26984457539.\n",
    "\n",
    "This will mean a lot of memory and a lot of computing."
   ]
  },
  {
   "cell_type": "markdown",
   "metadata": {},
   "source": [
    "Attempt #1: Maybe we can project by estimatng some curve from sample data?"
   ]
  },
  {
   "cell_type": "code",
   "execution_count": 11,
   "metadata": {},
   "outputs": [
    {
     "name": "stdout",
     "output_type": "stream",
     "text": [
      "Slope:  0.08722023723097547\n",
      "Intercept:  1.707898564240363\n",
      "predicted val = 27467773875.159622\n",
      "diff 483316336.1596222 or 1.0179109154023607\n"
     ]
    }
   ],
   "source": [
    "fish: list[int] = read_input(test_input_location())\n",
    "school: School = School(school_init=fish)\n",
    "y: list[int] = []\n",
    "for day in range(1, 100):\n",
    "    school.day()\n",
    "    y.append(school.count_fish())\n",
    "\n",
    "x_train = np.arange(1, 100).reshape(-1, 1)\n",
    "Y_train = np.array(y)\n",
    "ln_Y_train = np.log(Y_train)\n",
    "\n",
    "regr = linear_model.LinearRegression()\n",
    "regr.fit(x_train, ln_Y_train)\n",
    "\n",
    "x_pred = np.arange(101, 257).reshape(-1, 1)\n",
    "Y_pred = regr.predict(x_pred)\n",
    "\n",
    "print('Slope: ', regr.coef_[0])\n",
    "print('Intercept: ', regr.intercept_)\n",
    "\n",
    "actual = 26984457539\n",
    "prediction = np.exp(regr.coef_[0] * 256 + regr.intercept_)\n",
    "print(\"predicted val = {:f}\".format(prediction))\n",
    "print(f\"diff {prediction - actual} or {prediction/actual}\")"
   ]
  },
  {
   "cell_type": "markdown",
   "metadata": {},
   "source": [
    "Result of attempt 1.  No!  Off by less than 2%, but still off... "
   ]
  },
  {
   "cell_type": "markdown",
   "metadata": {},
   "source": [
    "Attempt 2.\n",
    "Instead of creating indivdual fish, let's keep track of counts of fish of each class (days left)."
   ]
  },
  {
   "cell_type": "code",
   "execution_count": 7,
   "metadata": {},
   "outputs": [],
   "source": [
    "def count_fish(fish: list[int], days:int) -> int:\n",
    "    fish_counts = dict(Counter(fish))\n",
    "\n",
    "    for day in range(days):\n",
    "        reproducing = fish_counts.get(0, 0)\n",
    "        \n",
    "        fish_counts[0] = 0\n",
    "        for i in range(8):\n",
    "            fish_counts[i] = fish_counts.get(i + 1, 0)\n",
    "        \n",
    "        fish_counts[8] = reproducing\n",
    "        fish_counts[6] = fish_counts.get(6, 0) + reproducing\n",
    "\n",
    "    return sum([v for v in dict(fish_counts).values()])\n",
    "\n",
    "fish: list[int] = read_input(test_input_location())\n",
    "assert count_fish(fish, 18) == 26\n",
    "assert count_fish(fish, 80) == 5934\n",
    "assert count_fish(fish, 256) == 26984457539"
   ]
  },
  {
   "cell_type": "code",
   "execution_count": 8,
   "metadata": {},
   "outputs": [
    {
     "data": {
      "text/plain": [
       "1604361182149"
      ]
     },
     "execution_count": 8,
     "metadata": {},
     "output_type": "execute_result"
    }
   ],
   "source": [
    "fish: list[int] = read_input(input_location())\n",
    "count_fish(fish, 256)"
   ]
  },
  {
   "cell_type": "markdown",
   "metadata": {},
   "source": [
    "*whew ... that worked.*"
   ]
  }
 ],
 "metadata": {
  "interpreter": {
   "hash": "ae981610c82baf8dde312b9cabe619eb6b77f5b8e197b22f2a09a689406db354"
  },
  "kernelspec": {
   "display_name": "Python 3.10.0 64-bit ('venv': venv)",
   "language": "python",
   "name": "python3"
  },
  "language_info": {
   "codemirror_mode": {
    "name": "ipython",
    "version": 3
   },
   "file_extension": ".py",
   "mimetype": "text/x-python",
   "name": "python",
   "nbconvert_exporter": "python",
   "pygments_lexer": "ipython3",
   "version": "3.10.0"
  },
  "orig_nbformat": 4
 },
 "nbformat": 4,
 "nbformat_minor": 2
}
