{
 "cells": [
  {
   "cell_type": "markdown",
   "metadata": {},
   "source": [
    "# Day 7: The Treachery of Whales"
   ]
  },
  {
   "cell_type": "code",
   "execution_count": 7,
   "metadata": {},
   "outputs": [],
   "source": [
    "import os\n",
    "from collections import Counter\n",
    "from dataclasses import dataclass, field\n",
    "from math import factorial"
   ]
  },
  {
   "cell_type": "markdown",
   "metadata": {},
   "source": [
    "## Part 1: \n",
    "Determine the position with the minimum fuel requirements for all to align there.  post fuel requirements."
   ]
  },
  {
   "cell_type": "code",
   "execution_count": 2,
   "metadata": {},
   "outputs": [
    {
     "data": {
      "text/plain": [
       "[16, 1, 2, 0, 4, 2, 7, 1, 2, 14]"
      ]
     },
     "execution_count": 2,
     "metadata": {},
     "output_type": "execute_result"
    }
   ],
   "source": [
    "# input data.\n",
    "def test_input_location(\n",
    "    file_loc: str = 'test_input.txt', \n",
    "    data_directory: str  = 'data/day_7'\n",
    ") -> str:\n",
    "    return os.path.join(data_directory, file_loc)\n",
    "\n",
    "def input_location(\n",
    "    file_loc: str = 'input.txt', \n",
    "    data_directory: str  = 'data/day_7'\n",
    ") -> str:\n",
    "    return os.path.join(data_directory, file_loc)\n",
    "\n",
    "def read_input(input_file:str) -> list[int]:\n",
    "    initial_state: list[int] = []\n",
    "    with open(input_file) as f:\n",
    "        for line in f:\n",
    "            if line.rstrip():\n",
    "                initial_state = initial_state + list([int(x) for x in line.split(\",\")])\n",
    "    return initial_state\n",
    "\n",
    "test_crabs_initial = read_input(test_input_location())\n",
    "real_crabs_initial = read_input(input_location())\n",
    "\n",
    "test_crabs_initial"
   ]
  },
  {
   "cell_type": "code",
   "execution_count": 3,
   "metadata": {},
   "outputs": [
    {
     "name": "stdout",
     "output_type": "stream",
     "text": [
      "(0, 1919)\n"
     ]
    }
   ],
   "source": [
    "# how large is the solution space?\n",
    "d = dict(Counter(real_crabs_initial))\n",
    "max_key = max(d.keys()) \n",
    "min_key = min(d.keys()) \n",
    "print((min_key, max_key))"
   ]
  },
  {
   "cell_type": "code",
   "execution_count": 4,
   "metadata": {},
   "outputs": [
    {
     "data": {
      "text/plain": [
       "FuelRequirements(to_position=2, fuel_required=37)"
      ]
     },
     "execution_count": 4,
     "metadata": {},
     "output_type": "execute_result"
    }
   ],
   "source": [
    "@dataclass(frozen=True, order=True, eq = True)\n",
    "class FuelRequirements:\n",
    "    to_position: int = field(compare=False)\n",
    "    fuel_required: int = field(compare=True)\n",
    "\n",
    "def estimate_crabs_fuel(crab_location_counts:dict, to_position:int) -> int:\n",
    "    fuel_required: int = 0\n",
    "\n",
    "    for from_position, crabs in crab_location_counts.items():\n",
    "        fuel = abs(from_position - to_position) * crabs\n",
    "        fuel_required = fuel_required + fuel\n",
    "\n",
    "    return fuel_required\n",
    "\n",
    "def estimate_all_alignment_space(crab_locations: list[int]) -> list[FuelRequirements]:\n",
    "    crab_location_counts = dict(Counter(crab_locations))\n",
    "    fuel_requirements: list[FuelRequirements] = []\n",
    "    \n",
    "    max_key = max(crab_location_counts.keys())\n",
    "    min_key = min(crab_location_counts.keys())\n",
    "    for to_position in range(min_key, max_key+1):\n",
    "        fuel_required = estimate_crabs_fuel(crab_location_counts, to_position)\n",
    "        fuel_requirements.append(FuelRequirements(to_position, fuel_required))\n",
    "\n",
    "    return fuel_requirements\n",
    "\n",
    "all_test_solutions = estimate_all_alignment_space(test_crabs_initial)\n",
    "min(all_test_solutions)\n"
   ]
  },
  {
   "cell_type": "code",
   "execution_count": 5,
   "metadata": {},
   "outputs": [
    {
     "data": {
      "text/plain": [
       "FuelRequirements(to_position=345, fuel_required=348996)"
      ]
     },
     "execution_count": 5,
     "metadata": {},
     "output_type": "execute_result"
    }
   ],
   "source": [
    "all_real_solutions = estimate_all_alignment_space(real_crabs_initial)\n",
    "min(all_real_solutions)"
   ]
  },
  {
   "cell_type": "markdown",
   "metadata": {},
   "source": [
    "## Part 2: crab movement requires non-linear fuel \n",
    "\n",
    "Appears to follow the patern. n(n+1)/2"
   ]
  },
  {
   "cell_type": "code",
   "execution_count": 20,
   "metadata": {},
   "outputs": [],
   "source": [
    "def estimate_crabs_fuel_updated(crab_location_counts:dict, to_position:int) -> int:\n",
    "    \"\"\"\n",
    "    movement requires non-constant fuel requirements. each cell requires 1 additional element.\n",
    "    \"\"\"\n",
    "    fuel_required: int = 0\n",
    "\n",
    "    for from_position, crabs in crab_location_counts.items():\n",
    "        distance = abs(from_position - to_position) \n",
    "        fuel =  (distance * (distance +1)) / 2 * crabs\n",
    "        fuel_required = fuel_required + fuel\n",
    "\n",
    "    return fuel_required\n",
    "\n",
    "def estimate_all_alignment_space_updated(crab_locations: list[int]) -> list[FuelRequirements]:\n",
    "    crab_location_counts = dict(Counter(crab_locations))\n",
    "    fuel_requirements: list[FuelRequirements] = []\n",
    "    \n",
    "    max_key = max(crab_location_counts.keys())\n",
    "    min_key = min(crab_location_counts.keys())\n",
    "    for to_position in range(min_key, max_key+1):\n",
    "        fuel_required = estimate_crabs_fuel_updated(crab_location_counts, to_position)\n",
    "        fuel_requirements.append(FuelRequirements(to_position, fuel_required))\n",
    "\n",
    "    return fuel_requirements"
   ]
  },
  {
   "cell_type": "code",
   "execution_count": 21,
   "metadata": {},
   "outputs": [
    {
     "data": {
      "text/plain": [
       "FuelRequirements(to_position=5, fuel_required=168.0)"
      ]
     },
     "execution_count": 21,
     "metadata": {},
     "output_type": "execute_result"
    }
   ],
   "source": [
    "all_test_solutions = estimate_all_alignment_space_updated(test_crabs_initial)\n",
    "min(all_test_solutions)"
   ]
  },
  {
   "cell_type": "code",
   "execution_count": 22,
   "metadata": {},
   "outputs": [
    {
     "data": {
      "text/plain": [
       "FuelRequirements(to_position=481, fuel_required=98231647.0)"
      ]
     },
     "execution_count": 22,
     "metadata": {},
     "output_type": "execute_result"
    }
   ],
   "source": [
    "all_real_solutions = estimate_all_alignment_space_updated(real_crabs_initial)\n",
    "min(all_real_solutions)"
   ]
  },
  {
   "cell_type": "code",
   "execution_count": null,
   "metadata": {},
   "outputs": [],
   "source": []
  }
 ],
 "metadata": {
  "interpreter": {
   "hash": "ae981610c82baf8dde312b9cabe619eb6b77f5b8e197b22f2a09a689406db354"
  },
  "kernelspec": {
   "display_name": "Python 3.10.0 64-bit ('venv': venv)",
   "language": "python",
   "name": "python3"
  },
  "language_info": {
   "codemirror_mode": {
    "name": "ipython",
    "version": 3
   },
   "file_extension": ".py",
   "mimetype": "text/x-python",
   "name": "python",
   "nbconvert_exporter": "python",
   "pygments_lexer": "ipython3",
   "version": "3.10.0"
  },
  "orig_nbformat": 4
 },
 "nbformat": 4,
 "nbformat_minor": 2
}
