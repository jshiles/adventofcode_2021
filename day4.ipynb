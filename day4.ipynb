{
 "cells": [
  {
   "cell_type": "markdown",
   "metadata": {},
   "source": [
    "# Advent of Code Day 4\n",
    "https://adventofcode.com/2021/day/4"
   ]
  },
  {
   "cell_type": "code",
   "execution_count": 1,
   "metadata": {},
   "outputs": [],
   "source": [
    "import os\n",
    "from dataclasses import dataclass, field, InitVar\n",
    "from typing import Optional, Tuple, List\n"
   ]
  },
  {
   "cell_type": "code",
   "execution_count": 2,
   "metadata": {},
   "outputs": [],
   "source": [
    "@dataclass\n",
    "class BingoSpace():\n",
    "    value:int = field(default=0)\n",
    "    marked:bool = field(default=False)\n",
    "\n",
    "@dataclass\n",
    "class BingoBoard():\n",
    "    board: InitVar[list[list[int]]]\n",
    "    spaces: list[BingoSpace] = field(default_factory=list)\n",
    "    row_size: int = field(default=0, repr=False)\n",
    "    col_size: int = field(default=0, repr=False)\n",
    "    completed: bool = field(default=False, repr=False)\n",
    "\n",
    "    def __post_init__(self, board: list[list[int]]):\n",
    "        if len(board) == 0:\n",
    "            raise ValueError(\"board is empty.\")\n",
    "\n",
    "        self.row_size = len(board)\n",
    "        self.col_size = len(board[0])\n",
    "\n",
    "        for row in board:\n",
    "            if len(row) != self.col_size:\n",
    "                raise ValueError(\"column lengths are mismatched.\")\n",
    "\n",
    "            for value in row:\n",
    "                self.spaces.append(BingoSpace(value))\n",
    "\n",
    "    def mark_space(self, value: int) -> None:\n",
    "        for space in self.spaces:\n",
    "            if space.value == value:\n",
    "                space.marked = True\n",
    "    \n",
    "    def sum_marked(self) -> int:\n",
    "        \"\"\"\n",
    "        Returns the sum of the marked BingoSpaces.\n",
    "        \"\"\"\n",
    "        cum_sum: int = 0\n",
    "        for space in self.spaces:\n",
    "            if space.marked:\n",
    "                cum_sum = cum_sum + space.value\n",
    "        return cum_sum\n",
    "    \n",
    "    def sum_unmarked(self) -> int:\n",
    "        \"\"\"\n",
    "        Returns the sum of the unmarked BingoSpaces.\n",
    "        \"\"\"\n",
    "        cum_sum: int = 0\n",
    "        for space in self.spaces:\n",
    "            if not space.marked:\n",
    "                cum_sum = cum_sum + space.value\n",
    "        return cum_sum\n",
    "\n",
    "    def space_index(self, row:int, col:int) -> int:\n",
    "        return row * self.col_size + col\n",
    "\n",
    "    def has_completed_row(self) -> bool:\n",
    "        for r in range(self.row_size):\n",
    "            row_complete: bool = True\n",
    "            for c in range(self.col_size):\n",
    "                idx = self.space_index(r, c)\n",
    "                row_complete &= self.spaces[idx].marked\n",
    "            if row_complete:\n",
    "                return True\n",
    "            row_complete = False\n",
    "        return False \n",
    "\n",
    "    def has_completed_col(self) -> bool:\n",
    "        for c in range(self.col_size):\n",
    "            col_complete: bool = True\n",
    "            for r in range(self.row_size):\n",
    "                idx = self.space_index(r, c)\n",
    "                col_complete &= self.spaces[idx].marked\n",
    "            if col_complete:\n",
    "                return True\n",
    "        return False \n",
    "\n",
    "    def is_completed(self) -> bool:\n",
    "        return self.has_completed_row() or self.has_completed_col()\n",
    "\n",
    "\n",
    "def test_input_location(\n",
    "    file_loc: str = 'test_input.txt', \n",
    "    data_directory: str  = 'data/day_4'\n",
    ") -> str:\n",
    "    return os.path.join(data_directory, file_loc)\n",
    "\n",
    "def input_location(\n",
    "    file_loc: str = 'input.txt', \n",
    "    data_directory: str  = 'data/day_4'\n",
    ") -> str:\n",
    "    return os.path.join(data_directory, file_loc)\n",
    "\n",
    "def read_input(input_file:str) -> Tuple[Optional[list[int]], list[BingoBoard]]:\n",
    "    draw: Optional[list[int]] = None\n",
    "    game_boards: list[BingoBoard] = []\n",
    "    board = []\n",
    "\n",
    "    with open(input_file) as f:\n",
    "        for line in f:\n",
    "            if line.rstrip() and draw is None:\n",
    "                draw = [int(x) for x in line.rstrip().split(\",\")]\n",
    "            \n",
    "            elif not line.rstrip() and len(board) > 0:\n",
    "                # commit a board\n",
    "                game_boards.append(BingoBoard(board))\n",
    "                board = []\n",
    "            \n",
    "            elif line.rstrip():\n",
    "                row:list[int] = [int(x.strip()) for x in line.rstrip().split()]\n",
    "                board.append(row)\n",
    "\n",
    "        if len(board) > 0:  # capture last one\n",
    "            game_boards.append(BingoBoard(board))\n",
    "\n",
    "    return (draw, game_boards)\n"
   ]
  },
  {
   "cell_type": "code",
   "execution_count": 3,
   "metadata": {},
   "outputs": [],
   "source": [
    "def winning_sum(draw, game_boards) -> int:\n",
    "    for value in draw:\n",
    "        for game_board in game_boards:\n",
    "            game_board.mark_space(value)\n",
    "            if game_board.is_completed():\n",
    "                return game_board.sum_unmarked() * value\n",
    "\n",
    "# test with test input data from the example.\n",
    "draw, game_boards = read_input(test_input_location())\n",
    "assert winning_sum(draw, game_boards) == 4512"
   ]
  },
  {
   "cell_type": "markdown",
   "metadata": {},
   "source": [
    "### Find solution to part 1.\n",
    "Finding the value of the board (sum unmarked spaces * drawn number) that wins first."
   ]
  },
  {
   "cell_type": "code",
   "execution_count": 4,
   "metadata": {},
   "outputs": [
    {
     "data": {
      "text/plain": [
       "6592"
      ]
     },
     "execution_count": 4,
     "metadata": {},
     "output_type": "execute_result"
    }
   ],
   "source": [
    "draw, game_boards = read_input(input_location())\n",
    "winning_sum(draw, game_boards)"
   ]
  },
  {
   "cell_type": "markdown",
   "metadata": {},
   "source": [
    "### Find solution to part 2.\n",
    "Finding the value of the board (sum unmarked spaces * drawn number) that wins last."
   ]
  },
  {
   "cell_type": "code",
   "execution_count": 5,
   "metadata": {},
   "outputs": [],
   "source": [
    "def last_winning_sum(draw, game_boards) -> int:\n",
    "    completed_puzzles = 0\n",
    "    \n",
    "    for value in draw:\n",
    "        for idx, game_board in enumerate(game_boards):\n",
    "            if not game_board.completed:\n",
    "                game_board.mark_space(value)\n",
    "\n",
    "                if game_board.is_completed() and len(game_boards) - completed_puzzles == 1:\n",
    "                    # print(f\"Last winner is {idx} after value {value}\")\n",
    "                    return game_board.sum_unmarked() * value\n",
    "                elif game_board.is_completed():\n",
    "                    game_board.completed = True \n",
    "                    completed_puzzles = completed_puzzles + 1\n",
    "                    # print(f\"Removing {idx} after value {value} ({completed_puzzles} of {len(game_boards)})\")\n",
    "\n",
    "# test with test input data from the example.\n",
    "draw, game_boards = read_input(test_input_location())\n",
    "assert last_winning_sum(draw, game_boards) == 1924"
   ]
  },
  {
   "cell_type": "code",
   "execution_count": 6,
   "metadata": {},
   "outputs": [
    {
     "data": {
      "text/plain": [
       "31755"
      ]
     },
     "execution_count": 6,
     "metadata": {},
     "output_type": "execute_result"
    }
   ],
   "source": [
    "draw, game_boards = read_input(input_location())\n",
    "last_winning_sum(draw, game_boards)"
   ]
  },
  {
   "cell_type": "code",
   "execution_count": null,
   "metadata": {},
   "outputs": [],
   "source": []
  }
 ],
 "metadata": {
  "interpreter": {
   "hash": "ae981610c82baf8dde312b9cabe619eb6b77f5b8e197b22f2a09a689406db354"
  },
  "kernelspec": {
   "display_name": "Python 3.10.0 64-bit ('venv': venv)",
   "language": "python",
   "name": "python3"
  },
  "language_info": {
   "codemirror_mode": {
    "name": "ipython",
    "version": 3
   },
   "file_extension": ".py",
   "mimetype": "text/x-python",
   "name": "python",
   "nbconvert_exporter": "python",
   "pygments_lexer": "ipython3",
   "version": "3.10.0"
  },
  "orig_nbformat": 4
 },
 "nbformat": 4,
 "nbformat_minor": 2
}
