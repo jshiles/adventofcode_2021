{
 "cells": [
  {
   "cell_type": "markdown",
   "metadata": {},
   "source": [
    "# Day 16: Packet Decoder\n",
    "https://adventofcode.com/2021/day/16 "
   ]
  },
  {
   "cell_type": "markdown",
   "metadata": {},
   "source": [
    "The modules can be found [here](advent_of_code/day_16.py)."
   ]
  },
  {
   "cell_type": "code",
   "execution_count": 1,
   "metadata": {},
   "outputs": [],
   "source": [
    "from typing import Tuple\n",
    "\n",
    "from advent_of_code.day_16 import Packet, LiteralPacket, OperatorPacket\n",
    "from advent_of_code.utils import hex_to_binary, input_location\n",
    "\n",
    "%load_ext autoreload\n",
    "%autoreload 2"
   ]
  },
  {
   "cell_type": "code",
   "execution_count": 2,
   "metadata": {},
   "outputs": [
    {
     "data": {
      "text/plain": [
       "LiteralPacket(version=6, type_id=4, value=2021, bits_len=15, bits=101111111000101)"
      ]
     },
     "execution_count": 2,
     "metadata": {},
     "output_type": "execute_result"
    }
   ],
   "source": [
    "# Literals Test\n",
    "p1 = Packet(hex_to_binary(\"D2FE28\"))\n",
    "assert isinstance(p1, LiteralPacket)\n",
    "assert p1.header.version == 6\n",
    "assert p1.value == \"2021\"\n",
    "assert p1.length() == len(hex_to_binary(\"D2FE28\")) - 3\n",
    "p1"
   ]
  },
  {
   "cell_type": "code",
   "execution_count": 3,
   "metadata": {},
   "outputs": [
    {
     "data": {
      "text/plain": [
       "OperatorPacket(version=1, type_id=6, operator_type=0, packet_size=49, bits=110100010100101001000100100)\n",
       "\t -> LiteralPacket(version=6, type_id=4, value=10, bits_len=5, bits=01010)\n",
       "\t -> LiteralPacket(version=2, type_id=4, value=20, bits_len=10, bits=1000100100)"
      ]
     },
     "execution_count": 3,
     "metadata": {},
     "output_type": "execute_result"
    }
   ],
   "source": [
    "# Operator Packet: bit labeled I (0)\n",
    "p2 = Packet(hex_to_binary('38006F45291200'))\n",
    "assert isinstance(p2, OperatorPacket)\n",
    "assert p2.header.version == 1\n",
    "assert p2.header.type_id == 6\n",
    "assert p2.operator_info.length_type_id == 0\n",
    "\n",
    "assert len(p2.sub_packets) == 2\n",
    "assert p2.sub_packets[0].value == '10'\n",
    "assert p2.sub_packets[0].length() == 11\n",
    "\n",
    "assert p2.sub_packets[1].value == '20'\n",
    "assert p2.sub_packets[1].length() == 16\n",
    "\n",
    "p2"
   ]
  },
  {
   "cell_type": "code",
   "execution_count": 4,
   "metadata": {},
   "outputs": [
    {
     "data": {
      "text/plain": [
       "OperatorPacket(version=7, type_id=3, operator_type=1, packet_size=51, bits=010100000011001000001000110000011)\n",
       "\t -> LiteralPacket(version=2, type_id=4, value=1, bits_len=5, bits=00001)\n",
       "\t -> LiteralPacket(version=4, type_id=4, value=2, bits_len=5, bits=00010)\n",
       "\t -> LiteralPacket(version=1, type_id=4, value=3, bits_len=5, bits=00011)"
      ]
     },
     "execution_count": 4,
     "metadata": {},
     "output_type": "execute_result"
    }
   ],
   "source": [
    "# Operator Packet: bit labeled I (1)\n",
    "p3 = Packet(hex_to_binary(\"EE00D40C823060\"))\n",
    "assert isinstance(p3, OperatorPacket)\n",
    "assert p3.header.version == 7\n",
    "assert p3.header.type_id == 3\n",
    "\n",
    "assert len(p3.sub_packets) == 3\n",
    "assert p3.sub_packets[0].value == '1'\n",
    "assert p3.sub_packets[1].value == '2'\n",
    "assert p3.sub_packets[2].value == '3'\n",
    "\n",
    "p3"
   ]
  },
  {
   "cell_type": "code",
   "execution_count": 5,
   "metadata": {},
   "outputs": [
    {
     "name": "stdout",
     "output_type": "stream",
     "text": [
      "16\n"
     ]
    },
    {
     "data": {
      "text/plain": [
       "OperatorPacket(version=4, type_id=2, operator_type=1, packet_size=69, bits=001010100000000001101010000000000000101111010001111)\n",
       "\t -> OperatorPacket(version=1, type_id=2, operator_type=1, packet_size=51, bits=101010000000000000101111010001111)\n",
       "\t -> OperatorPacket(version=5, type_id=2, operator_type=0, packet_size=33, bits=11010001111)\n",
       "\t -> LiteralPacket(version=6, type_id=4, value=15, bits_len=5, bits=01111)"
      ]
     },
     "execution_count": 5,
     "metadata": {},
     "output_type": "execute_result"
    }
   ],
   "source": [
    "# 8A004A801A8002F478 represents an operator packet (version 4) which contains \n",
    "# an operator packet (version 1) which contains an operator packet (version 5) \n",
    "# which contains a literal value (version 6); this packet has a version sum of \n",
    "# 16\n",
    "\n",
    "p4 = Packet(hex_to_binary(\"8A004A801A8002F478\"))\n",
    "assert isinstance(p4, OperatorPacket)\n",
    "assert p4.header.version == 4\n",
    "assert len(p4.sub_packets) == 1\n",
    "\n",
    "assert p4.sub_packets[0].header.version == 1\n",
    "assert isinstance(p4.sub_packets[0], OperatorPacket)\n",
    "assert len(p4.sub_packets[0].sub_packets) == 1\n",
    "\n",
    "assert p4.sub_packets[0].sub_packets[0].header.version == 5\n",
    "assert isinstance(p4.sub_packets[0].sub_packets[0], OperatorPacket)\n",
    "assert len(p4.sub_packets[0].sub_packets[0].sub_packets) == 1\n",
    "\n",
    "assert isinstance(p4.sub_packets[0].sub_packets[0].sub_packets[0], LiteralPacket)\n",
    "assert p4.sub_packets[0].sub_packets[0].sub_packets[0].header.version == 6\n",
    "\n",
    "print(p4.sum_of_version_numbers())\n",
    "assert p4.sum_of_version_numbers() == 16\n",
    "\n",
    "p4"
   ]
  },
  {
   "cell_type": "markdown",
   "metadata": {},
   "source": []
  },
  {
   "cell_type": "code",
   "execution_count": 6,
   "metadata": {},
   "outputs": [
    {
     "name": "stdout",
     "output_type": "stream",
     "text": [
      "12\n",
      "OperatorPacket(version=3, type_id=0, operator_type=1, packet_size=102, bits=000000000000000001011000010001010101100010110010001000000000100001000110001110001101)\n",
      "\t -> OperatorPacket(version=0, type_id=0, operator_type=0, packet_size=44, bits=0001000101010110001011)\n",
      "\t -> LiteralPacket(version=0, type_id=4, value=10, bits_len=5, bits=01010)\n",
      "\t -> LiteralPacket(version=5, type_id=4, value=11, bits_len=5, bits=01011)\n",
      "\t -> OperatorPacket(version=1, type_id=0, operator_type=1, packet_size=40, bits=0001000110001110001101)\n",
      "\t -> LiteralPacket(version=0, type_id=4, value=12, bits_len=5, bits=01100)\n",
      "\t -> LiteralPacket(version=3, type_id=4, value=13, bits_len=5, bits=01101)\n"
     ]
    }
   ],
   "source": [
    "# 620080001611562C8802118E34 represents an operator packet (version 3) which \n",
    "# contains two sub-packets; each sub-packet is an operator packet that \n",
    "# contains two literal values. This packet has a version sum of 12.\n",
    "\n",
    "p5 = Packet(hex_to_binary(\"620080001611562C8802118E34\"))\n",
    "\n",
    "assert p5.header.version == 3\n",
    "assert isinstance(p5, OperatorPacket)\n",
    "# assert len(p5.sub_packets) == 2\n",
    "\n",
    "print(p5.sum_of_version_numbers())\n",
    "print(p5)\n",
    "\n",
    "assert p5.sum_of_version_numbers() == 12"
   ]
  },
  {
   "cell_type": "code",
   "execution_count": 7,
   "metadata": {},
   "outputs": [
    {
     "name": "stdout",
     "output_type": "stream",
     "text": [
      "917\n"
     ]
    }
   ],
   "source": [
    "with open(input_location(day=16)) as f:\n",
    "    hex = f.read().strip()\n",
    "    real_packet = Packet(hex_to_binary(hex))\n",
    "    print(real_packet.sum_of_version_numbers())"
   ]
  },
  {
   "cell_type": "markdown",
   "metadata": {},
   "source": [
    "### Part 2\n",
    "Coming soon..."
   ]
  },
  {
   "cell_type": "code",
   "execution_count": null,
   "metadata": {},
   "outputs": [],
   "source": []
  }
 ],
 "metadata": {
  "interpreter": {
   "hash": "ae981610c82baf8dde312b9cabe619eb6b77f5b8e197b22f2a09a689406db354"
  },
  "kernelspec": {
   "display_name": "Python 3.10.0 64-bit ('venv': venv)",
   "language": "python",
   "name": "python3"
  },
  "language_info": {
   "codemirror_mode": {
    "name": "ipython",
    "version": 3
   },
   "file_extension": ".py",
   "mimetype": "text/x-python",
   "name": "python",
   "nbconvert_exporter": "python",
   "pygments_lexer": "ipython3",
   "version": "3.10.0"
  },
  "orig_nbformat": 4
 },
 "nbformat": 4,
 "nbformat_minor": 2
}
