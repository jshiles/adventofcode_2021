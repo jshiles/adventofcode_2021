{
 "cells": [
  {
   "cell_type": "markdown",
   "metadata": {},
   "source": [
    "# Day 10: Syntax Scoring\n",
    "https://adventofcode.com/2021/day/10"
   ]
  },
  {
   "cell_type": "markdown",
   "metadata": {},
   "source": [
    "### Part 1, Detect syntax errors\n",
    "\n",
    "Rules,\n",
    "- If a chunk opens with (, it must close with ).\n",
    "- If a chunk opens with [, it must close with ].\n",
    "- If a chunk opens with {, it must close with }.\n",
    "- If a chunk opens with <, it must close with >.\n",
    "\n",
    "Some lines are incomplete, but others are corrupted. Find and discard the corrupted lines first."
   ]
  },
  {
   "cell_type": "code",
   "execution_count": 1,
   "metadata": {},
   "outputs": [],
   "source": [
    "import os\n",
    "from typing import Optional, Tuple"
   ]
  },
  {
   "cell_type": "code",
   "execution_count": 2,
   "metadata": {},
   "outputs": [],
   "source": [
    "# input data.\n",
    "def test_input_location(\n",
    "    file_loc: str = 'test_input.txt', \n",
    "    data_directory: str  = 'data/day_10'\n",
    ") -> str:\n",
    "    return os.path.join(data_directory, file_loc)\n",
    "\n",
    "def input_location(\n",
    "    file_loc: str = 'input.txt', \n",
    "    data_directory: str  = 'data/day_10'\n",
    ") -> str:\n",
    "    return os.path.join(data_directory, file_loc)\n",
    "\n",
    "def read_input(input_file:str) -> list[str]:\n",
    "    lines: list[str] = list()\n",
    "    if os.path.exists(input_file):\n",
    "        with open(input_file) as f:    \n",
    "            for line in f:\n",
    "                if line.rstrip():\n",
    "                    lines.append(line.strip())\n",
    "    return lines\n"
   ]
  },
  {
   "cell_type": "code",
   "execution_count": 3,
   "metadata": {},
   "outputs": [],
   "source": [
    "def has_syntax_errors(line: str, print_errors=False) -> Tuple[bool, Optional[str]]:\n",
    "    \"\"\"\n",
    "    Returns True if there is a syntax error and the first offending character,\n",
    "    otherwise False and None\n",
    "    Tuple(bool, str)\n",
    "    \"\"\"\n",
    "\n",
    "    # dictionary for our valid open/close pairs\n",
    "    valid_pairs: dict = {\n",
    "        '(': ')',\n",
    "        '[': ']',\n",
    "        '{': '}',\n",
    "        '<': '>'\n",
    "    }\n",
    "    syntax_stack: list = list()\n",
    "\n",
    "    for ch in line:\n",
    "        if ch in valid_pairs.keys():\n",
    "            syntax_stack.append(ch)\n",
    "        \n",
    "        elif ch in valid_pairs.values():   \n",
    "            # closer without an prior opener\n",
    "            if len(syntax_stack) == 0:\n",
    "                return (True, ch)\n",
    "\n",
    "            # our closer should be the pair of the last opener.        \n",
    "            stack_ch = syntax_stack.pop()\n",
    "            if ch != valid_pairs.get(stack_ch, ''):\n",
    "                if print_errors:\n",
    "                    print(f\"{line} - Expected {valid_pairs.get(stack_ch, '')}, but found {ch} instead.\")\n",
    "                return (True, ch)\n",
    "\n",
    "    # len(syntax_stack) > 0 then it is incomplete.\n",
    "\n",
    "    return False, None\n",
    "\n",
    "def score_input(lines: list[str]) -> int:\n",
    "    \"\"\"\n",
    "    Loop through input \"lines\" and sum error score according the scheme.\n",
    "    \"\"\"\n",
    "    error_score: dict = {\n",
    "        ')': 3,\n",
    "        ']': 57,\n",
    "        '}': 1197,\n",
    "        '>': 25137\n",
    "    }\n",
    "    sum = 0\n",
    "    for line in lines:\n",
    "        has_error, ch = has_syntax_errors(line)\n",
    "        if has_error:\n",
    "            sum = sum + error_score.get(ch, 0)\n",
    "    return sum"
   ]
  },
  {
   "cell_type": "code",
   "execution_count": 4,
   "metadata": {},
   "outputs": [
    {
     "name": "stdout",
     "output_type": "stream",
     "text": [
      "{([(<{}[<>[]}>{[]{[(<()> - Expected ], but found } instead.\n",
      "[[<[([]))<([[{}[[()]]] - Expected ], but found ) instead.\n",
      "[{[{({}]{}}([{[{{{}}([] - Expected ), but found ] instead.\n",
      "[<(<(<(<{}))><([]([]() - Expected >, but found ) instead.\n",
      "<{([([[(<>()){}]>(<<{{ - Expected ], but found > instead.\n"
     ]
    }
   ],
   "source": [
    "# Test various failure examples.\n",
    "assert has_syntax_errors(\"{([(<{}[<>[]}>{[]{[(<()>\", print_errors=True) == (True, '}')\n",
    "assert has_syntax_errors(\"[[<[([]))<([[{}[[()]]]\", print_errors=True) == (True, ')')\n",
    "assert has_syntax_errors(\"[{[{({}]{}}([{[{{{}}([]\", print_errors=True) == (True, ']')\n",
    "assert has_syntax_errors(\"[<(<(<(<{}))><([]([]()\", print_errors=True) == (True, ')')\n",
    "assert has_syntax_errors(\"<{([([[(<>()){}]>(<<{{\", print_errors=True) == (True, '>')"
   ]
  },
  {
   "cell_type": "code",
   "execution_count": 5,
   "metadata": {},
   "outputs": [],
   "source": [
    "# Test the input data provided.\n",
    "assert score_input(read_input(test_input_location())) == 26397"
   ]
  },
  {
   "cell_type": "code",
   "execution_count": 6,
   "metadata": {},
   "outputs": [
    {
     "data": {
      "text/plain": [
       "215229"
      ]
     },
     "execution_count": 6,
     "metadata": {},
     "output_type": "execute_result"
    }
   ],
   "source": [
    "score_input(read_input(input_location()))"
   ]
  },
  {
   "cell_type": "markdown",
   "metadata": {},
   "source": [
    "### Part 2 - Incomplete lines.\n",
    "We detect and complete incomplete lines.  We also perform the specified scoring algorithm on the lines to answer the question."
   ]
  },
  {
   "cell_type": "code",
   "execution_count": 50,
   "metadata": {},
   "outputs": [],
   "source": [
    "def is_incomplete(line: str, print_errors=False) ->Tuple[bool, Optional[str]]:\n",
    "    \"\"\"\n",
    "    Returns True if the line is incomplete and the missing string elements, otherwise \n",
    "    returns False and None even when the line has syntax errors.\n",
    "    Tuple(bool, str)\n",
    "    \"\"\"\n",
    "\n",
    "    if has_syntax_errors(line)[0]:\n",
    "        return False, None  # it is not incomplete, it is broken.\n",
    "\n",
    "    # dictionary for our valid open/close pairs\n",
    "    valid_pairs: dict = {\n",
    "        '(': ')',\n",
    "        '[': ']',\n",
    "        '{': '}',\n",
    "        '<': '>'\n",
    "    }\n",
    "    syntax_stack: list = list()\n",
    "\n",
    "    for ch in line:\n",
    "        if ch in valid_pairs.keys():\n",
    "            syntax_stack.append(ch)\n",
    "        \n",
    "        elif ch in valid_pairs.values():   \n",
    "            # our closer should be the pair of the last opener.        \n",
    "            stack_ch = syntax_stack.pop()\n",
    "            if ch != valid_pairs.get(stack_ch, ''):\n",
    "                return False, None\n",
    "\n",
    "    # check for in_completeness\n",
    "    if len(syntax_stack) > 0:\n",
    "        required_to_complete = \"\"\n",
    "        for ch in reversed(syntax_stack):\n",
    "            required_to_complete = required_to_complete + valid_pairs.get(ch, '')\n",
    "\n",
    "        if print_errors:\n",
    "            print(f\"{line} - Complete by adding {required_to_complete}\")\n",
    "        \n",
    "        return True, required_to_complete\n",
    "\n",
    "    return False, None\n",
    "\n",
    "def score_input_completeness(line: str) -> int:\n",
    "    \"\"\"\n",
    "    Scores a single line. Non-incomplete lines are skipped.\n",
    "    The specified scoring algorithm is implemented here.\n",
    "    \"\"\"\n",
    "    error_score: dict = {\n",
    "        ')': 1,\n",
    "        ']': 2,\n",
    "        '}': 3,\n",
    "        '>': 4\n",
    "    }\n",
    "    \n",
    "    total_score = 0\n",
    "    incomplete, to_complete = is_incomplete(line)\n",
    "    if incomplete:\n",
    "        for ch in to_complete:\n",
    "            total_score = total_score * 5 + error_score.get(ch, 0)\n",
    "\n",
    "    return total_score\n",
    "\n",
    "def score_document(lines: list[str]) -> int:\n",
    "    \"\"\"\n",
    "    Scores the each line in the document. Non-incomplete lines are skipped.  We return the middle score. \n",
    "    \"\"\"\n",
    "    scores: list[int] = []\n",
    "    for line in lines:\n",
    "        score = score_input_completeness(line)\n",
    "        if score > 0:\n",
    "            scores.append(score)\n",
    "\n",
    "    if len(scores):\n",
    "        scores = sorted(scores)\n",
    "        mid_point_idx = round( (len(scores)-1) / 2 )\n",
    "        return scores[mid_point_idx]\n",
    "    \n",
    "    return 0\n"
   ]
  },
  {
   "cell_type": "code",
   "execution_count": 51,
   "metadata": {},
   "outputs": [
    {
     "name": "stdout",
     "output_type": "stream",
     "text": [
      "[({(<(())[]>[[{[]{<()<>> - Complete by adding }}]])})]\n",
      "[(()[<>])]({[<{<<[]>>( - Complete by adding )}>]})\n",
      "(((({<>}<{<{<>}{[]{[]{} - Complete by adding }}>}>))))\n",
      "{<[[]]>}<{[{[{[]{()[[[] - Complete by adding ]]}}]}]}>\n",
      "<{([{{}}[<[[[<>{}]]]>[]] - Complete by adding ])}>\n"
     ]
    }
   ],
   "source": [
    "# Test incomplete check and completion logic\n",
    "assert is_incomplete(\"[({(<(())[]>[[{[]{<()<>>\", print_errors=True) == (True, \"}}]])})]\")\n",
    "assert is_incomplete(\"[(()[<>])]({[<{<<[]>>(\", print_errors=True) == (True, \")}>]})\")\n",
    "assert is_incomplete(\"(((({<>}<{<{<>}{[]{[]{}\", print_errors=True) == (True, \"}}>}>))))\")\n",
    "assert is_incomplete(\"{<[[]]>}<{[{[{[]{()[[[]\", print_errors=True) == (True, \"]]}}]}]}>\")\n",
    "assert is_incomplete(\"<{([{{}}[<[[[<>{}]]]>[]]\", print_errors=True) == (True, \"])}>\")"
   ]
  },
  {
   "cell_type": "code",
   "execution_count": 52,
   "metadata": {},
   "outputs": [],
   "source": [
    "# Test line scoring\n",
    "assert score_input_completeness(\"[({(<(())[]>[[{[]{<()<>>\") == 288957\n",
    "assert score_input_completeness(\"[(()[<>])]({[<{<<[]>>(\") == 5566  \n",
    "assert score_input_completeness(\"<{([{{}}[<[[[<>{}]]]>[]]\") == 294"
   ]
  },
  {
   "cell_type": "code",
   "execution_count": 54,
   "metadata": {},
   "outputs": [],
   "source": [
    "# Test document scoring.\n",
    "assert score_document(read_input(test_input_location())) == 288957"
   ]
  },
  {
   "cell_type": "code",
   "execution_count": 55,
   "metadata": {},
   "outputs": [
    {
     "data": {
      "text/plain": [
       "1105996483"
      ]
     },
     "execution_count": 55,
     "metadata": {},
     "output_type": "execute_result"
    }
   ],
   "source": [
    "# RUN ON PROD DATA TO FIND THE ANSWER\n",
    "score_document(read_input(input_location()))"
   ]
  },
  {
   "cell_type": "code",
   "execution_count": null,
   "metadata": {},
   "outputs": [],
   "source": []
  }
 ],
 "metadata": {
  "interpreter": {
   "hash": "ae981610c82baf8dde312b9cabe619eb6b77f5b8e197b22f2a09a689406db354"
  },
  "kernelspec": {
   "display_name": "Python 3.10.0 64-bit ('venv': venv)",
   "language": "python",
   "name": "python3"
  },
  "language_info": {
   "codemirror_mode": {
    "name": "ipython",
    "version": 3
   },
   "file_extension": ".py",
   "mimetype": "text/x-python",
   "name": "python",
   "nbconvert_exporter": "python",
   "pygments_lexer": "ipython3",
   "version": "3.10.0"
  },
  "orig_nbformat": 4
 },
 "nbformat": 4,
 "nbformat_minor": 2
}
